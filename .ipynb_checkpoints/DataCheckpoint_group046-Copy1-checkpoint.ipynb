{
 "cells": [
  {
   "cell_type": "markdown",
   "metadata": {},
   "source": [
    "# COGS 108 - Data Checkpoint"
   ]
  },
  {
   "cell_type": "markdown",
   "metadata": {},
   "source": [
    "# Names\n",
    "\n",
    "- Bridget Egan \n",
    "- Dillan Merchant\n",
    "- Jennifer Hang\n",
    "- Sam Zakeri\n",
    "- Connie Chang"
   ]
  },
  {
   "cell_type": "markdown",
   "metadata": {},
   "source": [
    "<a id='research_question'></a>\n",
    "# Research Question"
   ]
  },
  {
   "cell_type": "markdown",
   "metadata": {},
   "source": [
    "**We would like to know how news headline sentiment changes based on the political leaning of the news sources Breitbart, CNN, and NPR. Using both AllSides and MediaBiasFactCheck Breitbart was evaluated as the most right-leaning news source, CNN was evaluated as the most left-leaning news source, and NPR was evaluated as the most politically-neutral news source [1, 2, 3, 4, 5, 6, 7]. We hypothesize that the two more politically polar news sources, Breitbart and CNN, will have more polar sentiment, and the more neutral news source, NPR, will be more neutral in sentiment.**\n",
    "- [1] https://www.allsides.com/news-source/cnn-media-bias\n",
    "- [2] https://mediabiasfactcheck.com/cnn/\n",
    "- [3] https://mediabiasfactcheck.com/npr/\n",
    "- [4] https://www.allsides.com/news-source/npr-media-bias\n",
    "- [5] https://www.allsides.com/news-source/breitbart\n",
    "- [6] https://mediabiasfactcheck.com/breitbart/\n",
    "- [7] https://www.adfontesmedia.com/static-mbc/"
   ]
  },
  {
   "cell_type": "markdown",
   "metadata": {},
   "source": [
    "# Dataset(s)"
   ]
  },
  {
   "cell_type": "markdown",
   "metadata": {},
   "source": [
    "All the news (143,000 articles from 15 American publications)\n",
    "- Link to the dataset: https://www.kaggle.com/snapcrack/all-the-news\n",
    "- Number of observations: Breitbart (23781), CNN (11488), NPR (11992)\n",
    "- 1-2 sentences describing each dataset."
   ]
  },
  {
   "cell_type": "markdown",
   "metadata": {},
   "source": [
    "# Setup"
   ]
  },
  {
   "cell_type": "code",
   "execution_count": 2,
   "metadata": {},
   "outputs": [],
   "source": [
    "import numpy as np\n",
    "import pandas as pd"
   ]
  },
  {
   "cell_type": "markdown",
   "metadata": {},
   "source": [
    "# Data Cleaning"
   ]
  },
  {
   "cell_type": "code",
   "execution_count": 3,
   "metadata": {},
   "outputs": [
    {
     "name": "stdout",
     "output_type": "stream",
     "text": [
      "(50000, 10)\n",
      "(49999, 10)\n",
      "(42571, 10)\n"
     ]
    }
   ],
   "source": [
    "news1 = pd.read_csv('csv_files/articles1.csv')\n",
    "news2 = pd.read_csv('csv_files/articles2.csv')\n",
    "news3 = pd.read_csv('csv_files/articles3.csv')\n",
    "\n",
    "\n",
    "print(news1.shape)\n",
    "print(news2.shape)\n",
    "print(news3.shape)"
   ]
  },
  {
   "cell_type": "code",
   "execution_count": 4,
   "metadata": {},
   "outputs": [
    {
     "data": {
      "text/plain": [
       "(142570, 10)"
      ]
     },
     "execution_count": 4,
     "metadata": {},
     "output_type": "execute_result"
    }
   ],
   "source": [
    "# combine three dataframes into one\n",
    "news = news1.append(news2).append(news3)\n",
    "news.shape"
   ]
  },
  {
   "cell_type": "code",
   "execution_count": 5,
   "metadata": {},
   "outputs": [
    {
     "data": {
      "text/html": [
       "<div>\n",
       "<style scoped>\n",
       "    .dataframe tbody tr th:only-of-type {\n",
       "        vertical-align: middle;\n",
       "    }\n",
       "\n",
       "    .dataframe tbody tr th {\n",
       "        vertical-align: top;\n",
       "    }\n",
       "\n",
       "    .dataframe thead th {\n",
       "        text-align: right;\n",
       "    }\n",
       "</style>\n",
       "<table border=\"1\" class=\"dataframe\">\n",
       "  <thead>\n",
       "    <tr style=\"text-align: right;\">\n",
       "      <th></th>\n",
       "      <th>Unnamed: 0</th>\n",
       "      <th>id</th>\n",
       "      <th>title</th>\n",
       "      <th>publication</th>\n",
       "      <th>author</th>\n",
       "      <th>date</th>\n",
       "      <th>year</th>\n",
       "      <th>month</th>\n",
       "      <th>url</th>\n",
       "      <th>content</th>\n",
       "    </tr>\n",
       "  </thead>\n",
       "  <tbody>\n",
       "    <tr>\n",
       "      <th>0</th>\n",
       "      <td>0</td>\n",
       "      <td>17283</td>\n",
       "      <td>House Republicans Fret About Winning Their Hea...</td>\n",
       "      <td>New York Times</td>\n",
       "      <td>Carl Hulse</td>\n",
       "      <td>2016-12-31</td>\n",
       "      <td>2016.0</td>\n",
       "      <td>12.0</td>\n",
       "      <td>NaN</td>\n",
       "      <td>WASHINGTON  —   Congressional Republicans have...</td>\n",
       "    </tr>\n",
       "    <tr>\n",
       "      <th>1</th>\n",
       "      <td>1</td>\n",
       "      <td>17284</td>\n",
       "      <td>Rift Between Officers and Residents as Killing...</td>\n",
       "      <td>New York Times</td>\n",
       "      <td>Benjamin Mueller and Al Baker</td>\n",
       "      <td>2017-06-19</td>\n",
       "      <td>2017.0</td>\n",
       "      <td>6.0</td>\n",
       "      <td>NaN</td>\n",
       "      <td>After the bullet shells get counted, the blood...</td>\n",
       "    </tr>\n",
       "    <tr>\n",
       "      <th>2</th>\n",
       "      <td>2</td>\n",
       "      <td>17285</td>\n",
       "      <td>Tyrus Wong, ‘Bambi’ Artist Thwarted by Racial ...</td>\n",
       "      <td>New York Times</td>\n",
       "      <td>Margalit Fox</td>\n",
       "      <td>2017-01-06</td>\n",
       "      <td>2017.0</td>\n",
       "      <td>1.0</td>\n",
       "      <td>NaN</td>\n",
       "      <td>When Walt Disney’s “Bambi” opened in 1942, cri...</td>\n",
       "    </tr>\n",
       "    <tr>\n",
       "      <th>3</th>\n",
       "      <td>3</td>\n",
       "      <td>17286</td>\n",
       "      <td>Among Deaths in 2016, a Heavy Toll in Pop Musi...</td>\n",
       "      <td>New York Times</td>\n",
       "      <td>William McDonald</td>\n",
       "      <td>2017-04-10</td>\n",
       "      <td>2017.0</td>\n",
       "      <td>4.0</td>\n",
       "      <td>NaN</td>\n",
       "      <td>Death may be the great equalizer, but it isn’t...</td>\n",
       "    </tr>\n",
       "    <tr>\n",
       "      <th>4</th>\n",
       "      <td>4</td>\n",
       "      <td>17287</td>\n",
       "      <td>Kim Jong-un Says North Korea Is Preparing to T...</td>\n",
       "      <td>New York Times</td>\n",
       "      <td>Choe Sang-Hun</td>\n",
       "      <td>2017-01-02</td>\n",
       "      <td>2017.0</td>\n",
       "      <td>1.0</td>\n",
       "      <td>NaN</td>\n",
       "      <td>SEOUL, South Korea  —   North Korea’s leader, ...</td>\n",
       "    </tr>\n",
       "  </tbody>\n",
       "</table>\n",
       "</div>"
      ],
      "text/plain": [
       "   Unnamed: 0     id                                              title  \\\n",
       "0           0  17283  House Republicans Fret About Winning Their Hea...   \n",
       "1           1  17284  Rift Between Officers and Residents as Killing...   \n",
       "2           2  17285  Tyrus Wong, ‘Bambi’ Artist Thwarted by Racial ...   \n",
       "3           3  17286  Among Deaths in 2016, a Heavy Toll in Pop Musi...   \n",
       "4           4  17287  Kim Jong-un Says North Korea Is Preparing to T...   \n",
       "\n",
       "      publication                         author        date    year  month  \\\n",
       "0  New York Times                     Carl Hulse  2016-12-31  2016.0   12.0   \n",
       "1  New York Times  Benjamin Mueller and Al Baker  2017-06-19  2017.0    6.0   \n",
       "2  New York Times                   Margalit Fox  2017-01-06  2017.0    1.0   \n",
       "3  New York Times               William McDonald  2017-04-10  2017.0    4.0   \n",
       "4  New York Times                  Choe Sang-Hun  2017-01-02  2017.0    1.0   \n",
       "\n",
       "   url                                            content  \n",
       "0  NaN  WASHINGTON  —   Congressional Republicans have...  \n",
       "1  NaN  After the bullet shells get counted, the blood...  \n",
       "2  NaN  When Walt Disney’s “Bambi” opened in 1942, cri...  \n",
       "3  NaN  Death may be the great equalizer, but it isn’t...  \n",
       "4  NaN  SEOUL, South Korea  —   North Korea’s leader, ...  "
      ]
     },
     "execution_count": 5,
     "metadata": {},
     "output_type": "execute_result"
    }
   ],
   "source": [
    "news.head()"
   ]
  },
  {
   "cell_type": "code",
   "execution_count": 6,
   "metadata": {},
   "outputs": [
    {
     "data": {
      "text/plain": [
       "Breitbart              23781\n",
       "New York Post          17493\n",
       "NPR                    11992\n",
       "CNN                    11488\n",
       "Washington Post        11114\n",
       "Reuters                10710\n",
       "Guardian                8681\n",
       "New York Times          7803\n",
       "Atlantic                7179\n",
       "Business Insider        6757\n",
       "National Review         6203\n",
       "Talking Points Memo     5214\n",
       "Vox                     4947\n",
       "Buzzfeed News           4854\n",
       "Fox News                4354\n",
       "Name: publication, dtype: int64"
      ]
     },
     "execution_count": 6,
     "metadata": {},
     "output_type": "execute_result"
    }
   ],
   "source": [
    "# check number of news for each source\n",
    "news['publication'].value_counts()"
   ]
  },
  {
   "cell_type": "code",
   "execution_count": 7,
   "metadata": {},
   "outputs": [
    {
     "data": {
      "text/plain": [
       "Breitbart        23781\n",
       "New York Post    17493\n",
       "NPR              11992\n",
       "Name: publication, dtype: int64"
      ]
     },
     "execution_count": 7,
     "metadata": {},
     "output_type": "execute_result"
    }
   ],
   "source": [
    "# keep news only from 'Breitbart', 'New York Post', and 'NPR'\n",
    "sources = ['Breitbart', 'New York Post', 'NPR']\n",
    "news = news[news['publication'].isin(sources)]\n",
    "\n",
    "news['publication'].value_counts()"
   ]
  },
  {
   "cell_type": "code",
   "execution_count": 9,
   "metadata": {},
   "outputs": [
    {
     "data": {
      "text/plain": [
       "New York Post    1000\n",
       "NPR              1000\n",
       "Breitbart        1000\n",
       "Name: publication, dtype: int64"
      ]
     },
     "execution_count": 9,
     "metadata": {},
     "output_type": "execute_result"
    }
   ],
   "source": [
    "# pick 1000 random news for each source\n",
    "news = news.groupby(\"publication\").sample(n=1000)\n",
    "\n",
    "news['publication'].value_counts()"
   ]
  },
  {
   "cell_type": "code",
   "execution_count": 10,
   "metadata": {},
   "outputs": [
    {
     "data": {
      "text/html": [
       "<div>\n",
       "<style scoped>\n",
       "    .dataframe tbody tr th:only-of-type {\n",
       "        vertical-align: middle;\n",
       "    }\n",
       "\n",
       "    .dataframe tbody tr th {\n",
       "        vertical-align: top;\n",
       "    }\n",
       "\n",
       "    .dataframe thead th {\n",
       "        text-align: right;\n",
       "    }\n",
       "</style>\n",
       "<table border=\"1\" class=\"dataframe\">\n",
       "  <thead>\n",
       "    <tr style=\"text-align: right;\">\n",
       "      <th></th>\n",
       "      <th>Unnamed: 0</th>\n",
       "      <th>id</th>\n",
       "      <th>title</th>\n",
       "      <th>publication</th>\n",
       "      <th>author</th>\n",
       "      <th>date</th>\n",
       "      <th>year</th>\n",
       "      <th>month</th>\n",
       "      <th>url</th>\n",
       "      <th>content</th>\n",
       "    </tr>\n",
       "  </thead>\n",
       "  <tbody>\n",
       "    <tr>\n",
       "      <th>31181</th>\n",
       "      <td>31189</td>\n",
       "      <td>49954</td>\n",
       "      <td>In New Cardinal Picks, Pope Francis Sidelines ...</td>\n",
       "      <td>Breitbart</td>\n",
       "      <td>Thomas D. Williams, Ph.D.</td>\n",
       "      <td>2016-10-09</td>\n",
       "      <td>2016.0</td>\n",
       "      <td>10.0</td>\n",
       "      <td>NaN</td>\n",
       "      <td>Pope Francis announced his choices for new Cat...</td>\n",
       "    </tr>\n",
       "    <tr>\n",
       "      <th>30110</th>\n",
       "      <td>30118</td>\n",
       "      <td>48883</td>\n",
       "      <td>SHOCK: Mexico Arrests Cartel Smugglers Bringin...</td>\n",
       "      <td>Breitbart</td>\n",
       "      <td>Cartel Chronicles</td>\n",
       "      <td>2016-05-01</td>\n",
       "      <td>2016.0</td>\n",
       "      <td>5.0</td>\n",
       "      <td>NaN</td>\n",
       "      <td>Editor’s Note: Breitbart Texas traveled to the...</td>\n",
       "    </tr>\n",
       "    <tr>\n",
       "      <th>10319</th>\n",
       "      <td>10319</td>\n",
       "      <td>29055</td>\n",
       "      <td>North Korea Accuses CIA, South Korea of ’Bio-C...</td>\n",
       "      <td>Breitbart</td>\n",
       "      <td>Frances Martel</td>\n",
       "      <td>2017-05-05</td>\n",
       "      <td>2017.0</td>\n",
       "      <td>5.0</td>\n",
       "      <td>NaN</td>\n",
       "      <td>The communist government of North Korea publis...</td>\n",
       "    </tr>\n",
       "    <tr>\n",
       "      <th>20002</th>\n",
       "      <td>20004</td>\n",
       "      <td>38749</td>\n",
       "      <td>Israel Says Mideast Arms Race Imperils Its Mil...</td>\n",
       "      <td>Breitbart</td>\n",
       "      <td>Reuters</td>\n",
       "      <td>2016-04-03</td>\n",
       "      <td>2016.0</td>\n",
       "      <td>4.0</td>\n",
       "      <td>NaN</td>\n",
       "      <td>Israel’s neighbors are buying arms on a scale ...</td>\n",
       "    </tr>\n",
       "    <tr>\n",
       "      <th>25885</th>\n",
       "      <td>25891</td>\n",
       "      <td>44645</td>\n",
       "      <td>Conservative Actor James Woods Quits Twitter O...</td>\n",
       "      <td>Breitbart</td>\n",
       "      <td>Lucas Nolan</td>\n",
       "      <td>2016-11-18</td>\n",
       "      <td>2016.0</td>\n",
       "      <td>11.0</td>\n",
       "      <td>NaN</td>\n",
       "      <td>Prominent conservative actor and producer Jame...</td>\n",
       "    </tr>\n",
       "  </tbody>\n",
       "</table>\n",
       "</div>"
      ],
      "text/plain": [
       "       Unnamed: 0     id                                              title  \\\n",
       "31181       31189  49954  In New Cardinal Picks, Pope Francis Sidelines ...   \n",
       "30110       30118  48883  SHOCK: Mexico Arrests Cartel Smugglers Bringin...   \n",
       "10319       10319  29055  North Korea Accuses CIA, South Korea of ’Bio-C...   \n",
       "20002       20004  38749  Israel Says Mideast Arms Race Imperils Its Mil...   \n",
       "25885       25891  44645  Conservative Actor James Woods Quits Twitter O...   \n",
       "\n",
       "      publication                     author        date    year  month  url  \\\n",
       "31181   Breitbart  Thomas D. Williams, Ph.D.  2016-10-09  2016.0   10.0  NaN   \n",
       "30110   Breitbart          Cartel Chronicles  2016-05-01  2016.0    5.0  NaN   \n",
       "10319   Breitbart             Frances Martel  2017-05-05  2017.0    5.0  NaN   \n",
       "20002   Breitbart                    Reuters  2016-04-03  2016.0    4.0  NaN   \n",
       "25885   Breitbart                Lucas Nolan  2016-11-18  2016.0   11.0  NaN   \n",
       "\n",
       "                                                 content  \n",
       "31181  Pope Francis announced his choices for new Cat...  \n",
       "30110  Editor’s Note: Breitbart Texas traveled to the...  \n",
       "10319  The communist government of North Korea publis...  \n",
       "20002  Israel’s neighbors are buying arms on a scale ...  \n",
       "25885  Prominent conservative actor and producer Jame...  "
      ]
     },
     "execution_count": 10,
     "metadata": {},
     "output_type": "execute_result"
    }
   ],
   "source": [
    "news.head()"
   ]
  }
 ],
 "metadata": {
  "kernelspec": {
   "display_name": "Python 3",
   "language": "python",
   "name": "python3"
  },
  "language_info": {
   "codemirror_mode": {
    "name": "ipython",
    "version": 3
   },
   "file_extension": ".py",
   "mimetype": "text/x-python",
   "name": "python",
   "nbconvert_exporter": "python",
   "pygments_lexer": "ipython3",
   "version": "3.8.5"
  }
 },
 "nbformat": 4,
 "nbformat_minor": 2
}
