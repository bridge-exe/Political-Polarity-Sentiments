{
 "cells": [
  {
   "cell_type": "markdown",
   "metadata": {},
   "source": [
    "# COGS 108 - EDA Checkpoint"
   ]
  },
  {
   "cell_type": "markdown",
   "metadata": {},
   "source": [
    "# Names\n",
    "\n",
    "- Bridget Egan \n",
    "- Dillan Merchant\n",
    "- Jennifer Hang\n",
    "- Sam Zakeri\n",
    "- Connie Chang"
   ]
  },
  {
   "cell_type": "markdown",
   "metadata": {},
   "source": [
    "# Research Question"
   ]
  },
  {
   "cell_type": "markdown",
   "metadata": {},
   "source": [
    "**How are American news headline sentiments correlated to their publication source's political leanings?** To do this, we wanted three sources that reflected 'far-left', 'centrist', and 'far-right' political leanings. Using both AllSides and MediaBiasFactCheck, Breitbart was evaluated as the most right-leaning news source of our dataset, CNN was evaluated as the most left-leaning news source, and NPR was evaluated as the most politically-centrist news source [1, 2, 3, 4, 5, 6, 7]. *We hypothesize that the two more politically polar news sources, Breitbart and CNN, will have more polar sentiment (as in frequently positive or negative-- bimodal distribution), and the more centrist news source, NPR, will be more neutral in sentiment.*\n",
    "- [1] https://www.allsides.com/news-source/cnn-media-bias\n",
    "- [2] https://mediabiasfactcheck.com/cnn/\n",
    "- [3] https://mediabiasfactcheck.com/npr/\n",
    "- [4] https://www.allsides.com/news-source/npr-media-bias\n",
    "- [5] https://www.allsides.com/news-source/breitbart\n",
    "- [6] https://mediabiasfactcheck.com/breitbart/\n",
    "- [7] https://www.adfontesmedia.com/static-mbc/"
   ]
  },
  {
   "cell_type": "markdown",
   "metadata": {},
   "source": [
    "# Setup"
   ]
  },
  {
   "cell_type": "code",
   "execution_count": 1,
   "metadata": {},
   "outputs": [
    {
     "name": "stderr",
     "output_type": "stream",
     "text": [
      "[nltk_data] Downloading package vader_lexicon to\n",
      "[nltk_data]     /home/began/nltk_data...\n",
      "[nltk_data]   Package vader_lexicon is already up-to-date!\n"
     ]
    },
    {
     "data": {
      "text/plain": [
       "True"
      ]
     },
     "execution_count": 1,
     "metadata": {},
     "output_type": "execute_result"
    }
   ],
   "source": [
    "import pandas as pd\n",
    "import matplotlib.pyplot as plt\n",
    "import seaborn as sns\n",
    "%matplotlib inline\n",
    "import nltk\n",
    "from nltk import word_tokenize, sent_tokenize, tokenize\n",
    "from nltk.corpus import stopwords\n",
    "from nltk.stem import LancasterStemmer, WordNetLemmatizer, PorterStemmer\n",
    "from wordcloud import WordCloud, STOPWORDS\n",
    "from nltk.probability import FreqDist\n",
    "import string\n",
    "from nltk.sentiment.vader import SentimentIntensityAnalyzer \n",
    "nltk.download('vader_lexicon') "
   ]
  },
  {
   "cell_type": "markdown",
   "metadata": {},
   "source": [
    "# Data Cleaning"
   ]
  },
  {
   "cell_type": "markdown",
   "metadata": {},
   "source": [
    "The data is fairly clean to begin with, there are few missing values and the format is consistent throughout. The issue we have is there is a lot of data that we do not need to use. So, to get our data into a useable format, we will only select the three publications we plan to use, Breitbart, CNN, and NPR, and keep the dates and headlines from only 1,000 of each. We decided on 1,000 of each because the dataset had a higher number of Breitbart articles than any other publication, and we wanted there to be a standard number of headlines for each source. Given that we plan on doing the additional step of sentiment analysis after this data checkpoint, most of our EDA will come next week, and so data distribution checking or data transformations will not be necessary at this time. It is also possible that as this project proceeds, we may decide to add in more points of data analysis, such as increasing how many articles we analyze from each news source, or even adding in different news sources to give us data for a 'center-right' and 'center-left source', if we feel that would improve the strength of our project."
   ]
  },
  {
   "cell_type": "code",
   "execution_count": 2,
   "metadata": {
    "scrolled": true
   },
   "outputs": [
    {
     "name": "stderr",
     "output_type": "stream",
     "text": [
      "Skipping line 17535: field larger than field limit (131072)\n",
      "Skipping line 1429: field larger than field limit (131072)\n",
      "Skipping line 1469: field larger than field limit (131072)\n",
      "Skipping line 1516: field larger than field limit (131072)\n",
      "Skipping line 1740: field larger than field limit (131072)\n",
      "Skipping line 3774: field larger than field limit (131072)\n",
      "Skipping line 3779: field larger than field limit (131072)\n",
      "Skipping line 3791: field larger than field limit (131072)\n",
      "Skipping line 33121: field larger than field limit (131072)\n",
      "Skipping line 34127: field larger than field limit (131072)\n"
     ]
    },
    {
     "name": "stdout",
     "output_type": "stream",
     "text": [
      "(49999, 10)\n",
      "(49992, 10)\n",
      "(42569, 10)\n"
     ]
    }
   ],
   "source": [
    "#this imports the relevant data sets from three separate files, and sanitizes the input.\n",
    "\n",
    "news1 = pd.read_csv('csv_files/articles1.csv', engine = 'python', error_bad_lines=False)\n",
    "news2 = pd.read_csv('csv_files/articles2.csv', engine = 'python', error_bad_lines=False)\n",
    "news3 = pd.read_csv('csv_files/articles3.csv', engine = 'python', error_bad_lines=False)\n",
    "\n",
    "\n",
    "print(news1.shape)\n",
    "print(news2.shape)\n",
    "print(news3.shape)"
   ]
  },
  {
   "cell_type": "code",
   "execution_count": 3,
   "metadata": {},
   "outputs": [
    {
     "data": {
      "text/plain": [
       "(142560, 10)"
      ]
     },
     "execution_count": 3,
     "metadata": {},
     "output_type": "execute_result"
    }
   ],
   "source": [
    "# combine three dataframes into one\n",
    "news = news1.append(news2).append(news3)\n",
    "news.shape"
   ]
  },
  {
   "cell_type": "code",
   "execution_count": 4,
   "metadata": {},
   "outputs": [
    {
     "data": {
      "text/plain": [
       "Breitbart              23780\n",
       "New York Post          17493\n",
       "NPR                    11992\n",
       "CNN                    11488\n",
       "Washington Post        11112\n",
       "Reuters                10710\n",
       "Guardian                8681\n",
       "New York Times          7803\n",
       "Atlantic                7172\n",
       "Business Insider        6757\n",
       "National Review         6203\n",
       "Talking Points Memo     5214\n",
       "Vox                     4947\n",
       "Buzzfeed News           4854\n",
       "Fox News                4354\n",
       "Name: publication, dtype: int64"
      ]
     },
     "execution_count": 4,
     "metadata": {},
     "output_type": "execute_result"
    }
   ],
   "source": [
    "# check number of articles for each source\n",
    "news['publication'].value_counts()"
   ]
  },
  {
   "cell_type": "code",
   "execution_count": 5,
   "metadata": {},
   "outputs": [
    {
     "data": {
      "text/html": [
       "<div>\n",
       "<style scoped>\n",
       "    .dataframe tbody tr th:only-of-type {\n",
       "        vertical-align: middle;\n",
       "    }\n",
       "\n",
       "    .dataframe tbody tr th {\n",
       "        vertical-align: top;\n",
       "    }\n",
       "\n",
       "    .dataframe thead th {\n",
       "        text-align: right;\n",
       "    }\n",
       "</style>\n",
       "<table border=\"1\" class=\"dataframe\">\n",
       "  <thead>\n",
       "    <tr style=\"text-align: right;\">\n",
       "      <th></th>\n",
       "      <th>title</th>\n",
       "      <th>publication</th>\n",
       "      <th>date</th>\n",
       "    </tr>\n",
       "  </thead>\n",
       "  <tbody>\n",
       "    <tr>\n",
       "      <th>0</th>\n",
       "      <td>House Republicans Fret About Winning Their Hea...</td>\n",
       "      <td>New York Times</td>\n",
       "      <td>2016-12-31</td>\n",
       "    </tr>\n",
       "    <tr>\n",
       "      <th>1</th>\n",
       "      <td>Rift Between Officers and Residents as Killing...</td>\n",
       "      <td>New York Times</td>\n",
       "      <td>2017-06-19</td>\n",
       "    </tr>\n",
       "    <tr>\n",
       "      <th>2</th>\n",
       "      <td>Tyrus Wong, ‘Bambi’ Artist Thwarted by Racial ...</td>\n",
       "      <td>New York Times</td>\n",
       "      <td>2017-01-06</td>\n",
       "    </tr>\n",
       "    <tr>\n",
       "      <th>3</th>\n",
       "      <td>Among Deaths in 2016, a Heavy Toll in Pop Musi...</td>\n",
       "      <td>New York Times</td>\n",
       "      <td>2017-04-10</td>\n",
       "    </tr>\n",
       "    <tr>\n",
       "      <th>4</th>\n",
       "      <td>Kim Jong-un Says North Korea Is Preparing to T...</td>\n",
       "      <td>New York Times</td>\n",
       "      <td>2017-01-02</td>\n",
       "    </tr>\n",
       "  </tbody>\n",
       "</table>\n",
       "</div>"
      ],
      "text/plain": [
       "                                               title     publication  \\\n",
       "0  House Republicans Fret About Winning Their Hea...  New York Times   \n",
       "1  Rift Between Officers and Residents as Killing...  New York Times   \n",
       "2  Tyrus Wong, ‘Bambi’ Artist Thwarted by Racial ...  New York Times   \n",
       "3  Among Deaths in 2016, a Heavy Toll in Pop Musi...  New York Times   \n",
       "4  Kim Jong-un Says North Korea Is Preparing to T...  New York Times   \n",
       "\n",
       "         date  \n",
       "0  2016-12-31  \n",
       "1  2017-06-19  \n",
       "2  2017-01-06  \n",
       "3  2017-04-10  \n",
       "4  2017-01-02  "
      ]
     },
     "execution_count": 5,
     "metadata": {},
     "output_type": "execute_result"
    }
   ],
   "source": [
    "#But we only care about the article title, where it comes from, and when it was published(for context of the news)\n",
    "\n",
    "news_cleaned = news[['title', 'publication', 'date']]\n",
    "news_cleaned.head()"
   ]
  },
  {
   "cell_type": "code",
   "execution_count": 6,
   "metadata": {},
   "outputs": [
    {
     "data": {
      "text/plain": [
       "False"
      ]
     },
     "execution_count": 6,
     "metadata": {},
     "output_type": "execute_result"
    }
   ],
   "source": [
    "#Getting rid of all the null columns\n",
    "news_cleaned = news_cleaned.dropna()\n",
    "news_cleaned.isnull().values.any()"
   ]
  },
  {
   "cell_type": "code",
   "execution_count": 7,
   "metadata": {},
   "outputs": [
    {
     "data": {
      "text/plain": [
       "Breitbart    23780\n",
       "NPR          11992\n",
       "CNN          11488\n",
       "Name: publication, dtype: int64"
      ]
     },
     "execution_count": 7,
     "metadata": {},
     "output_type": "execute_result"
    }
   ],
   "source": [
    "# keep news only from 'Breitbart', 'CNN', and 'NPR'\n",
    "sources = ['Breitbart', 'CNN', 'NPR']\n",
    "news = news_cleaned[news_cleaned['publication'].isin(sources)]\n",
    "\n",
    "news['publication'].value_counts()"
   ]
  },
  {
   "cell_type": "code",
   "execution_count": 8,
   "metadata": {},
   "outputs": [
    {
     "data": {
      "text/plain": [
       "NPR          1000\n",
       "CNN          1000\n",
       "Breitbart    1000\n",
       "Name: publication, dtype: int64"
      ]
     },
     "execution_count": 8,
     "metadata": {},
     "output_type": "execute_result"
    }
   ],
   "source": [
    "# pick 1000 random news for each source\n",
    "news = news.groupby(\"publication\").sample(n=1000)\n",
    "\n",
    "news['publication'].value_counts()"
   ]
  },
  {
   "cell_type": "code",
   "execution_count": 9,
   "metadata": {},
   "outputs": [
    {
     "data": {
      "text/html": [
       "<div>\n",
       "<style scoped>\n",
       "    .dataframe tbody tr th:only-of-type {\n",
       "        vertical-align: middle;\n",
       "    }\n",
       "\n",
       "    .dataframe tbody tr th {\n",
       "        vertical-align: top;\n",
       "    }\n",
       "\n",
       "    .dataframe thead th {\n",
       "        text-align: right;\n",
       "    }\n",
       "</style>\n",
       "<table border=\"1\" class=\"dataframe\">\n",
       "  <thead>\n",
       "    <tr style=\"text-align: right;\">\n",
       "      <th></th>\n",
       "      <th>title</th>\n",
       "      <th>publication</th>\n",
       "      <th>date</th>\n",
       "    </tr>\n",
       "  </thead>\n",
       "  <tbody>\n",
       "    <tr>\n",
       "      <th>19375</th>\n",
       "      <td>How Ted Cruz Can Win Iowa - Breitbart</td>\n",
       "      <td>Breitbart</td>\n",
       "      <td>2016-01-24</td>\n",
       "    </tr>\n",
       "    <tr>\n",
       "      <th>26067</th>\n",
       "      <td>Driver Threatened with Chainsaw During Calais ...</td>\n",
       "      <td>Breitbart</td>\n",
       "      <td>2016-08-02</td>\n",
       "    </tr>\n",
       "    <tr>\n",
       "      <th>30307</th>\n",
       "      <td>CA Lawmakers Designate $5 Million for ’Firearm...</td>\n",
       "      <td>Breitbart</td>\n",
       "      <td>2016-06-20</td>\n",
       "    </tr>\n",
       "    <tr>\n",
       "      <th>18247</th>\n",
       "      <td>Fraternal Order of Police Endorse Donald Trump...</td>\n",
       "      <td>Breitbart</td>\n",
       "      <td>2016-09-17</td>\n",
       "    </tr>\n",
       "    <tr>\n",
       "      <th>16431</th>\n",
       "      <td>GOP Veepstakes Begin: Candidates Start Buildin...</td>\n",
       "      <td>Breitbart</td>\n",
       "      <td>2016-04-22</td>\n",
       "    </tr>\n",
       "  </tbody>\n",
       "</table>\n",
       "</div>"
      ],
      "text/plain": [
       "                                                   title publication  \\\n",
       "19375              How Ted Cruz Can Win Iowa - Breitbart   Breitbart   \n",
       "26067  Driver Threatened with Chainsaw During Calais ...   Breitbart   \n",
       "30307  CA Lawmakers Designate $5 Million for ’Firearm...   Breitbart   \n",
       "18247  Fraternal Order of Police Endorse Donald Trump...   Breitbart   \n",
       "16431  GOP Veepstakes Begin: Candidates Start Buildin...   Breitbart   \n",
       "\n",
       "             date  \n",
       "19375  2016-01-24  \n",
       "26067  2016-08-02  \n",
       "30307  2016-06-20  \n",
       "18247  2016-09-17  \n",
       "16431  2016-04-22  "
      ]
     },
     "execution_count": 9,
     "metadata": {},
     "output_type": "execute_result"
    }
   ],
   "source": [
    "news.head()"
   ]
  },
  {
   "cell_type": "markdown",
   "metadata": {},
   "source": [
    "# Data Analysis & Results (EDA)"
   ]
  },
  {
   "cell_type": "markdown",
   "metadata": {},
   "source": [
    "Carry out EDA on your dataset(s); Describe in this section"
   ]
  },
  {
   "cell_type": "code",
   "execution_count": 10,
   "metadata": {
    "scrolled": true
   },
   "outputs": [],
   "source": [
    "news['title'] = news['title'].astype(str)\n",
    "\n",
    "## Lowercase\n",
    "news['title'] = news['title'].apply(lambda x: \" \".join(x.lower() for x in x.split()))\n",
    "\n",
    "#remove punct\n",
    "def remove_punct(string):\n",
    "    punctuation= '''‘’!()-[]{};:'\", <>./?@#$%^&*_~'''\n",
    "    for x in punctuation:\n",
    "        string = string.replace(x, \" \")\n",
    "    return string\n",
    "\n",
    "news['title'] = news['title'].apply(remove_punct)\n",
    "\n",
    "#tokenize \n",
    "news['title'] = news['title'].apply(word_tokenize)\n",
    "\n",
    "## stop word removal\n",
    "stop_words = set(stopwords.words('english'))\n",
    "\n",
    "\n",
    "#We see in the data that Breitbart includes the name of their publication at the end of each of their article titles, as such,\n",
    "#we decided to add 'breitbart' as a stop word so that it would be removed from the titles, and not dilute the sentiment of the rest\n",
    "#of the article titles.\n",
    "stop_words.add('breitbart, washington')\n",
    "news['title'] = news['title'].apply(lambda x: [item for item in x if item not in stop_words])\n",
    "\n",
    "\n",
    "##stemming\n",
    "stemmer = PorterStemmer()\n",
    "news['title'] = news['title'].apply(lambda x: [stemmer.stem(y) for y in x])\n",
    "\n",
    "news['tokenized_list'] = news['title']\n",
    "\n",
    "# putting the tokenized, stemmed, and cleaned titles back into lists\n",
    "def joiner(title_list): \n",
    "    return ' '.join(title_list)\n",
    "news['title'] = news['title'].apply(joiner)\n",
    "\n",
    "\n",
    "#Analysing the sentiment of each title and creating a new Dataframe of the compound of the sentiments\n",
    "analyser = SentimentIntensityAnalyzer()\n",
    "title_sentences = list(news['title'])\n",
    "def senti(input_list):\n",
    "    output = pd.DataFrame()\n",
    "    for sentence in title_sentences:\n",
    "        ss = analyser.polarity_scores(sentence)\n",
    "        ss['cleaned_titles'] = sentence\n",
    "        output = output.append(ss, ignore_index=True)\n",
    "    return output\n",
    "\n",
    "\n",
    "news_sentiments = senti(title_sentences)\n"
   ]
  },
  {
   "cell_type": "code",
   "execution_count": 11,
   "metadata": {},
   "outputs": [
    {
     "data": {
      "text/html": [
       "<div>\n",
       "<style scoped>\n",
       "    .dataframe tbody tr th:only-of-type {\n",
       "        vertical-align: middle;\n",
       "    }\n",
       "\n",
       "    .dataframe tbody tr th {\n",
       "        vertical-align: top;\n",
       "    }\n",
       "\n",
       "    .dataframe thead th {\n",
       "        text-align: right;\n",
       "    }\n",
       "</style>\n",
       "<table border=\"1\" class=\"dataframe\">\n",
       "  <thead>\n",
       "    <tr style=\"text-align: right;\">\n",
       "      <th></th>\n",
       "      <th>index</th>\n",
       "      <th>title</th>\n",
       "      <th>publication</th>\n",
       "      <th>date</th>\n",
       "      <th>tokenized_list</th>\n",
       "      <th>title_sentiment</th>\n",
       "    </tr>\n",
       "  </thead>\n",
       "  <tbody>\n",
       "    <tr>\n",
       "      <th>0</th>\n",
       "      <td>19375</td>\n",
       "      <td>ted cruz win iowa breitbart</td>\n",
       "      <td>Breitbart</td>\n",
       "      <td>2016-01-24</td>\n",
       "      <td>[ted, cruz, win, iowa, breitbart]</td>\n",
       "      <td>0.5859</td>\n",
       "    </tr>\n",
       "    <tr>\n",
       "      <th>1</th>\n",
       "      <td>26067</td>\n",
       "      <td>driver threaten chainsaw calai night violenc</td>\n",
       "      <td>Breitbart</td>\n",
       "      <td>2016-08-02</td>\n",
       "      <td>[driver, threaten, chainsaw, calai, night, vio...</td>\n",
       "      <td>-0.3818</td>\n",
       "    </tr>\n",
       "    <tr>\n",
       "      <th>2</th>\n",
       "      <td>30307</td>\n",
       "      <td>ca lawmak design 5 million firearm violenc res...</td>\n",
       "      <td>Breitbart</td>\n",
       "      <td>2016-06-20</td>\n",
       "      <td>[ca, lawmak, design, 5, million, firearm, viol...</td>\n",
       "      <td>0.0000</td>\n",
       "    </tr>\n",
       "    <tr>\n",
       "      <th>3</th>\n",
       "      <td>18247</td>\n",
       "      <td>fratern order polic endors donald trump breitbart</td>\n",
       "      <td>Breitbart</td>\n",
       "      <td>2016-09-17</td>\n",
       "      <td>[fratern, order, polic, endors, donald, trump,...</td>\n",
       "      <td>0.0000</td>\n",
       "    </tr>\n",
       "    <tr>\n",
       "      <th>4</th>\n",
       "      <td>16431</td>\n",
       "      <td>gop veepstak begin candid start build list vet...</td>\n",
       "      <td>Breitbart</td>\n",
       "      <td>2016-04-22</td>\n",
       "      <td>[gop, veepstak, begin, candid, start, build, l...</td>\n",
       "      <td>0.2960</td>\n",
       "    </tr>\n",
       "    <tr>\n",
       "      <th>...</th>\n",
       "      <td>...</td>\n",
       "      <td>...</td>\n",
       "      <td>...</td>\n",
       "      <td>...</td>\n",
       "      <td>...</td>\n",
       "      <td>...</td>\n",
       "    </tr>\n",
       "    <tr>\n",
       "      <th>2995</th>\n",
       "      <td>12003</td>\n",
       "      <td>hh report say obamacar plan cheaper look</td>\n",
       "      <td>NPR</td>\n",
       "      <td>2016-07-12</td>\n",
       "      <td>[hh, report, say, obamacar, plan, cheaper, look]</td>\n",
       "      <td>0.0000</td>\n",
       "    </tr>\n",
       "    <tr>\n",
       "      <th>2996</th>\n",
       "      <td>7765</td>\n",
       "      <td>doctor wrote 1980 letter painkil regret fed op...</td>\n",
       "      <td>NPR</td>\n",
       "      <td>2017-06-16</td>\n",
       "      <td>[doctor, wrote, 1980, letter, painkil, regret,...</td>\n",
       "      <td>-0.4215</td>\n",
       "    </tr>\n",
       "    <tr>\n",
       "      <th>2997</th>\n",
       "      <td>7341</td>\n",
       "      <td>power new ebola vaccin head congo help stop ou...</td>\n",
       "      <td>NPR</td>\n",
       "      <td>2017-05-30</td>\n",
       "      <td>[power, new, ebola, vaccin, head, congo, help,...</td>\n",
       "      <td>0.1280</td>\n",
       "    </tr>\n",
       "    <tr>\n",
       "      <th>2998</th>\n",
       "      <td>15072</td>\n",
       "      <td>long unseen reader h g well ghost stori final ...</td>\n",
       "      <td>NPR</td>\n",
       "      <td>2016-11-27</td>\n",
       "      <td>[long, unseen, reader, h, g, well, ghost, stor...</td>\n",
       "      <td>-0.0516</td>\n",
       "    </tr>\n",
       "    <tr>\n",
       "      <th>2999</th>\n",
       "      <td>5269</td>\n",
       "      <td>tini patch mold cost one lucki buyer nearli 15...</td>\n",
       "      <td>NPR</td>\n",
       "      <td>2017-03-01</td>\n",
       "      <td>[tini, patch, mold, cost, one, lucki, buyer, n...</td>\n",
       "      <td>0.0000</td>\n",
       "    </tr>\n",
       "  </tbody>\n",
       "</table>\n",
       "<p>3000 rows × 6 columns</p>\n",
       "</div>"
      ],
      "text/plain": [
       "      index                                              title publication  \\\n",
       "0     19375                        ted cruz win iowa breitbart   Breitbart   \n",
       "1     26067       driver threaten chainsaw calai night violenc   Breitbart   \n",
       "2     30307  ca lawmak design 5 million firearm violenc res...   Breitbart   \n",
       "3     18247  fratern order polic endors donald trump breitbart   Breitbart   \n",
       "4     16431  gop veepstak begin candid start build list vet...   Breitbart   \n",
       "...     ...                                                ...         ...   \n",
       "2995  12003           hh report say obamacar plan cheaper look         NPR   \n",
       "2996   7765  doctor wrote 1980 letter painkil regret fed op...         NPR   \n",
       "2997   7341  power new ebola vaccin head congo help stop ou...         NPR   \n",
       "2998  15072  long unseen reader h g well ghost stori final ...         NPR   \n",
       "2999   5269  tini patch mold cost one lucki buyer nearli 15...         NPR   \n",
       "\n",
       "            date                                     tokenized_list  \\\n",
       "0     2016-01-24                  [ted, cruz, win, iowa, breitbart]   \n",
       "1     2016-08-02  [driver, threaten, chainsaw, calai, night, vio...   \n",
       "2     2016-06-20  [ca, lawmak, design, 5, million, firearm, viol...   \n",
       "3     2016-09-17  [fratern, order, polic, endors, donald, trump,...   \n",
       "4     2016-04-22  [gop, veepstak, begin, candid, start, build, l...   \n",
       "...          ...                                                ...   \n",
       "2995  2016-07-12   [hh, report, say, obamacar, plan, cheaper, look]   \n",
       "2996  2017-06-16  [doctor, wrote, 1980, letter, painkil, regret,...   \n",
       "2997  2017-05-30  [power, new, ebola, vaccin, head, congo, help,...   \n",
       "2998  2016-11-27  [long, unseen, reader, h, g, well, ghost, stor...   \n",
       "2999  2017-03-01  [tini, patch, mold, cost, one, lucki, buyer, n...   \n",
       "\n",
       "      title_sentiment  \n",
       "0              0.5859  \n",
       "1             -0.3818  \n",
       "2              0.0000  \n",
       "3              0.0000  \n",
       "4              0.2960  \n",
       "...               ...  \n",
       "2995           0.0000  \n",
       "2996          -0.4215  \n",
       "2997           0.1280  \n",
       "2998          -0.0516  \n",
       "2999           0.0000  \n",
       "\n",
       "[3000 rows x 6 columns]"
      ]
     },
     "execution_count": 11,
     "metadata": {},
     "output_type": "execute_result"
    }
   ],
   "source": [
    "#creating a combined dataframe of the titles, their publications, and the compound sentiment of their titles. \n",
    "news_sentiments\n",
    "title_sentiments = pd.DataFrame(news_sentiments['compound']) \n",
    "\n",
    "title_sentiments\n",
    "news = news.reset_index()\n",
    "news['title_sentiment']  = news_sentiments['compound']\n",
    "news"
   ]
  },
  {
   "cell_type": "markdown",
   "metadata": {},
   "source": [
    "### Let us first start with a general exploration of the average sentiments of each news source. "
   ]
  },
  {
   "cell_type": "code",
   "execution_count": 12,
   "metadata": {},
   "outputs": [
    {
     "data": {
      "text/plain": [
       "count    3000.000000\n",
       "mean       -0.088137\n",
       "std         0.355948\n",
       "min        -0.943200\n",
       "25%        -0.340000\n",
       "50%         0.000000\n",
       "75%         0.000000\n",
       "max         0.895700\n",
       "Name: title_sentiment, dtype: float64"
      ]
     },
     "execution_count": 12,
     "metadata": {},
     "output_type": "execute_result"
    }
   ],
   "source": [
    "news['title_sentiment'].describe()"
   ]
  },
  {
   "cell_type": "code",
   "execution_count": 13,
   "metadata": {},
   "outputs": [
    {
     "data": {
      "text/plain": [
       "count    1000.000000\n",
       "mean       -0.131097\n",
       "std         0.366770\n",
       "min        -0.943200\n",
       "25%        -0.401900\n",
       "50%         0.000000\n",
       "75%         0.000000\n",
       "max         0.883400\n",
       "Name: title_sentiment, dtype: float64"
      ]
     },
     "execution_count": 13,
     "metadata": {},
     "output_type": "execute_result"
    }
   ],
   "source": [
    "news[news['publication'] == 'Breitbart']['title_sentiment'].describe()"
   ]
  },
  {
   "cell_type": "code",
   "execution_count": 14,
   "metadata": {},
   "outputs": [
    {
     "data": {
      "text/plain": [
       "count    1000.000000\n",
       "mean       -0.108678\n",
       "std         0.336842\n",
       "min        -0.916900\n",
       "25%        -0.340000\n",
       "50%         0.000000\n",
       "75%         0.000000\n",
       "max         0.743000\n",
       "Name: title_sentiment, dtype: float64"
      ]
     },
     "execution_count": 14,
     "metadata": {},
     "output_type": "execute_result"
    }
   ],
   "source": [
    "news[news['publication'] == 'CNN']['title_sentiment'].describe()"
   ]
  },
  {
   "cell_type": "code",
   "execution_count": 15,
   "metadata": {},
   "outputs": [
    {
     "data": {
      "text/plain": [
       "count    1000.000000\n",
       "mean       -0.024637\n",
       "std         0.355051\n",
       "min        -0.904200\n",
       "25%        -0.226300\n",
       "50%         0.000000\n",
       "75%         0.000000\n",
       "max         0.895700\n",
       "Name: title_sentiment, dtype: float64"
      ]
     },
     "execution_count": 15,
     "metadata": {},
     "output_type": "execute_result"
    }
   ],
   "source": [
    "news[news['publication'] == 'NPR']['title_sentiment'].describe()"
   ]
  },
  {
   "cell_type": "markdown",
   "metadata": {},
   "source": [
    "### The average total mean of the sentiment distribution is negative, which is to be expected. But of the news sources, CNN is the most negative, on average with a mean sentiment of around -0.24, and NPR is the most neutral, with an average sentiment of -0.08. Breitbart sits slighly more positive than CNN with an average sentiment of -0.2. But the data could benefit from visual representation. \n",
    "\n",
    "### Here begins the visual EDA, with histograms of combined sentiment of all the news sources, then from each specific publication. "
   ]
  },
  {
   "cell_type": "code",
   "execution_count": 16,
   "metadata": {},
   "outputs": [
    {
     "data": {
      "image/png": "[encoded data removed]",
      "text/plain": [
       "<Figure size 432x288 with 1 Axes>"
      ]
     },
     "metadata": {
      "needs_background": "light"
     },
     "output_type": "display_data"
    }
   ],
   "source": [
    "total_plot = sns.histplot(news['title_sentiment'], bins=50, kde=True, color = 'pink');\n",
    "\n",
    "total_plot.set(ylim=(0,1500));\n",
    "total_plot.set(xlim=(-1,1));"
   ]
  },
  {
   "cell_type": "code",
   "execution_count": 17,
   "metadata": {},
   "outputs": [
    {
     "data": {
      "image/png": "[encoded data removed]",
      "text/plain": [
       "<Figure size 432x288 with 1 Axes>"
      ]
     },
     "metadata": {
      "needs_background": "light"
     },
     "output_type": "display_data"
    }
   ],
   "source": [
    "#creating a histogram plot of sentiment distribution based on the composite sentiment \n",
    "breitbart = news[news['publication'] == 'Breitbart']\n",
    "# breitbart.reset_index();\n",
    "breitbart_plot = sns.histplot(breitbart['title_sentiment'], bins=50, kde=True, color = 'red')\n",
    "\n",
    "breitbart_plot.set_title(\"Breitbart Sentiment Distribution\")\n",
    "breitbart_plot.set(ylim=(0,500))\n",
    "breitbart_plot.set(xlim=(-1,1));"
   ]
  },
  {
   "cell_type": "code",
   "execution_count": 18,
   "metadata": {},
   "outputs": [
    {
     "data": {
      "image/png": "[encoded data removed]",
      "text/plain": [
       "<Figure size 432x288 with 1 Axes>"
      ]
     },
     "metadata": {
      "needs_background": "light"
     },
     "output_type": "display_data"
    }
   ],
   "source": [
    "cnn = news[news['publication'] == 'CNN']\n",
    "# cnn.reset_index();\n",
    "cnn_plot = sns.histplot(cnn['title_sentiment'], bins=50, kde=True, color = 'blue');\n",
    "\n",
    "cnn_plot.set_title(\"CNN Sentiment Distribution\");\n",
    "cnn_plot.set(ylim=(0,500));\n",
    "cnn_plot.set(xlim=(-1,1));"
   ]
  },
  {
   "cell_type": "code",
   "execution_count": 19,
   "metadata": {},
   "outputs": [
    {
     "data": {
      "image/png": "[encoded data removed]",
      "text/plain": [
       "<Figure size 432x288 with 1 Axes>"
      ]
     },
     "metadata": {
      "needs_background": "light"
     },
     "output_type": "display_data"
    }
   ],
   "source": [
    "npr = news[news['publication'] == 'NPR']\n",
    "npr_plot = sns.histplot(npr['title_sentiment'], bins=50, kde=True, color = 'green');\n",
    "\n",
    "npr_plot.set_title(\"NPR Sentiment Distribution\");\n",
    "npr_plot.set(ylim=(0,500));\n",
    "npr_plot.set(xlim=(-1,1));"
   ]
  },
  {
   "cell_type": "markdown",
   "metadata": {},
   "source": [
    "### For all of these graphs, we can see an obvious similarity, the large column of zero sentiments in the middle. Is this is indicative of the writers of these publications clearly trying to craft the most neutral titles as possible? Or is it that many headlines have complete neutral sentiment due to errors in the stemmer and uses of names? \n",
    "\n",
    "### To view the data with a more critical lens, we decided to remove all of the zero sentiments from each of the titles across the board. It is important to note that both NPR and CNN have nearly a hundred more 0 sentiment titles than Breitbart, but we feel that the data can be analyzed adequately without the large column in the middle, and will be able to see the general skew of articles that have more polar sentiment."
   ]
  },
  {
   "cell_type": "code",
   "execution_count": 20,
   "metadata": {
    "scrolled": true
   },
   "outputs": [
    {
     "data": {
      "text/html": [
       "<div>\n",
       "<style scoped>\n",
       "    .dataframe tbody tr th:only-of-type {\n",
       "        vertical-align: middle;\n",
       "    }\n",
       "\n",
       "    .dataframe tbody tr th {\n",
       "        vertical-align: top;\n",
       "    }\n",
       "\n",
       "    .dataframe thead th {\n",
       "        text-align: right;\n",
       "    }\n",
       "</style>\n",
       "<table border=\"1\" class=\"dataframe\">\n",
       "  <thead>\n",
       "    <tr style=\"text-align: right;\">\n",
       "      <th></th>\n",
       "      <th>index</th>\n",
       "      <th>title</th>\n",
       "      <th>publication</th>\n",
       "      <th>date</th>\n",
       "      <th>tokenized_list</th>\n",
       "      <th>title_sentiment</th>\n",
       "    </tr>\n",
       "  </thead>\n",
       "  <tbody>\n",
       "    <tr>\n",
       "      <th>0</th>\n",
       "      <td>19375</td>\n",
       "      <td>ted cruz win iowa breitbart</td>\n",
       "      <td>Breitbart</td>\n",
       "      <td>2016-01-24</td>\n",
       "      <td>[ted, cruz, win, iowa, breitbart]</td>\n",
       "      <td>0.5859</td>\n",
       "    </tr>\n",
       "    <tr>\n",
       "      <th>1</th>\n",
       "      <td>26067</td>\n",
       "      <td>driver threaten chainsaw calai night violenc</td>\n",
       "      <td>Breitbart</td>\n",
       "      <td>2016-08-02</td>\n",
       "      <td>[driver, threaten, chainsaw, calai, night, vio...</td>\n",
       "      <td>-0.3818</td>\n",
       "    </tr>\n",
       "    <tr>\n",
       "      <th>4</th>\n",
       "      <td>16431</td>\n",
       "      <td>gop veepstak begin candid start build list vet...</td>\n",
       "      <td>Breitbart</td>\n",
       "      <td>2016-04-22</td>\n",
       "      <td>[gop, veepstak, begin, candid, start, build, l...</td>\n",
       "      <td>0.2960</td>\n",
       "    </tr>\n",
       "    <tr>\n",
       "      <th>5</th>\n",
       "      <td>17867</td>\n",
       "      <td>itali deport jihadist suspect plot attack lean...</td>\n",
       "      <td>Breitbart</td>\n",
       "      <td>2016-08-13</td>\n",
       "      <td>[itali, deport, jihadist, suspect, plot, attac...</td>\n",
       "      <td>-0.6486</td>\n",
       "    </tr>\n",
       "    <tr>\n",
       "      <th>6</th>\n",
       "      <td>28642</td>\n",
       "      <td>glenn beck defend mark zuckerberg attack conserv</td>\n",
       "      <td>Breitbart</td>\n",
       "      <td>2016-05-19</td>\n",
       "      <td>[glenn, beck, defend, mark, zuckerberg, attack...</td>\n",
       "      <td>-0.4767</td>\n",
       "    </tr>\n",
       "  </tbody>\n",
       "</table>\n",
       "</div>"
      ],
      "text/plain": [
       "   index                                              title publication  \\\n",
       "0  19375                        ted cruz win iowa breitbart   Breitbart   \n",
       "1  26067       driver threaten chainsaw calai night violenc   Breitbart   \n",
       "4  16431  gop veepstak begin candid start build list vet...   Breitbart   \n",
       "5  17867  itali deport jihadist suspect plot attack lean...   Breitbart   \n",
       "6  28642   glenn beck defend mark zuckerberg attack conserv   Breitbart   \n",
       "\n",
       "         date                                     tokenized_list  \\\n",
       "0  2016-01-24                  [ted, cruz, win, iowa, breitbart]   \n",
       "1  2016-08-02  [driver, threaten, chainsaw, calai, night, vio...   \n",
       "4  2016-04-22  [gop, veepstak, begin, candid, start, build, l...   \n",
       "5  2016-08-13  [itali, deport, jihadist, suspect, plot, attac...   \n",
       "6  2016-05-19  [glenn, beck, defend, mark, zuckerberg, attack...   \n",
       "\n",
       "   title_sentiment  \n",
       "0           0.5859  \n",
       "1          -0.3818  \n",
       "4           0.2960  \n",
       "5          -0.6486  \n",
       "6          -0.4767  "
      ]
     },
     "execution_count": 20,
     "metadata": {},
     "output_type": "execute_result"
    }
   ],
   "source": [
    "#get rid of 0 values (outlier)\n",
    "news = news[news.title_sentiment != 0]\n",
    "news.head()\n",
    "##Pay attention to the words that are not stemmed properly!!"
   ]
  },
  {
   "cell_type": "code",
   "execution_count": 21,
   "metadata": {},
   "outputs": [],
   "source": [
    "breitbart = news[news['publication'] == 'Breitbart']\n",
    "cnn = news[news['publication'] == 'CNN']\n",
    "npr = news[news['publication'] == 'NPR']"
   ]
  },
  {
   "cell_type": "code",
   "execution_count": 22,
   "metadata": {},
   "outputs": [
    {
     "data": {
      "image/png": "[encoded data removed]",
      "text/plain": [
       "<Figure size 432x288 with 1 Axes>"
      ]
     },
     "metadata": {
      "needs_background": "light"
     },
     "output_type": "display_data"
    }
   ],
   "source": [
    "total_plot = sns.histplot(news['title_sentiment'], bins=50, kde=True, color = 'pink');\n",
    "\n",
    "total_plot.set_title(\"Sentiment Distribution of all News Sources\");"
   ]
  },
  {
   "cell_type": "code",
   "execution_count": 23,
   "metadata": {},
   "outputs": [
    {
     "data": {
      "image/png": "[encoded data removed]",
      "text/plain": [
       "<Figure size 432x288 with 1 Axes>"
      ]
     },
     "metadata": {
      "needs_background": "light"
     },
     "output_type": "display_data"
    }
   ],
   "source": [
    "breitbart_plot = sns.histplot(breitbart['title_sentiment'], bins=50, kde=True, color = 'red')\n",
    "\n",
    "breitbart_plot.set_title(\"Breitbart Sentiment Distribution\");"
   ]
  },
  {
   "cell_type": "code",
   "execution_count": 24,
   "metadata": {},
   "outputs": [
    {
     "data": {
      "image/png": "[encoded data removed]",
      "text/plain": [
       "<Figure size 432x288 with 1 Axes>"
      ]
     },
     "metadata": {
      "needs_background": "light"
     },
     "output_type": "display_data"
    }
   ],
   "source": [
    "cnn_plot = sns.histplot(cnn['title_sentiment'], bins=50, kde=True, color = 'blue');\n",
    "\n",
    "cnn_plot.set_title(\"CNN Sentiment Distribution\");"
   ]
  },
  {
   "cell_type": "code",
   "execution_count": 25,
   "metadata": {},
   "outputs": [
    {
     "data": {
      "image/png": "[encoded data removed]",
      "text/plain": [
       "<Figure size 432x288 with 1 Axes>"
      ]
     },
     "metadata": {
      "needs_background": "light"
     },
     "output_type": "display_data"
    }
   ],
   "source": [
    "npr_plot = sns.histplot(npr['title_sentiment'], bins=50, kde=True, color = 'green');\n",
    "\n",
    "npr_plot.set_title(\"NPR Sentiment Distribution\");\n",
    "npr_plot.set(xlim=(-1,1));"
   ]
  },
  {
   "cell_type": "markdown",
   "metadata": {},
   "source": [
    "### By removing the column in the middle, we can see a clearer pattern emerge. All of the news sources have a more obvious bimodal distribution. But Breitbart and CNN seem to have a skew. We will now combine the graphs to compare the general sentiment distribution of each source."
   ]
  },
  {
   "cell_type": "code",
   "execution_count": 26,
   "metadata": {},
   "outputs": [
    {
     "data": {
      "image/png": "[encoded data removed]",
      "text/plain": [
       "<Figure size 432x288 with 1 Axes>"
      ]
     },
     "metadata": {
      "needs_background": "light"
     },
     "output_type": "display_data"
    }
   ],
   "source": [
    "#To combine all the sentiment scores without the 0 sentiment data. \n",
    "breitbart = news[news['publication'] == 'Breitbart']\n",
    "cnn = news[news['publication'] == 'CNN']\n",
    "npr = news[news['publication'] == 'NPR']\n",
    "\n",
    "Breitbart = list(breitbart['title'].values)\n",
    "CNN = list(cnn['title'].values)\n",
    "NPR = list(npr['title'].values)\n",
    "\n",
    "\n",
    "# function that will output the dataframe that stores sentiment information\n",
    "def get_sentiments(input_list):\n",
    "    output = pd.DataFrame()\n",
    "    for sentence in input_list:\n",
    "        ss = analyser.polarity_scores(sentence)\n",
    "        ss['sentence'] = sentence\n",
    "        output = output.append(ss, ignore_index=True)\n",
    "    return output\n",
    "\n",
    "breitbart_sentiments = get_sentiments(Breitbart)\n",
    "breitbart_sentiments['compound'].plot.density(color = 'red', label = 'Breitbart')\n",
    "\n",
    "cnn_sentiments = get_sentiments(CNN)\n",
    "cnn_sentiments['compound'].plot.density(color = 'blue', label = 'CNN')\n",
    "\n",
    "npr_sentiments = get_sentiments(NPR)\n",
    "npr_sentiments['compound'].plot.density(color = 'green', label = 'NPR')\n",
    "\n",
    "\n",
    "plt.legend(loc = 'upper right')\n",
    "plt.xlabel('Compound Sentiment Scores')\n",
    "plt.xlim(-1,1);\n",
    "plt.title(\"Combined Sentiment Scores of all News Sources\");"
   ]
  },
  {
   "cell_type": "markdown",
   "metadata": {},
   "source": [
    "### By showing all the news sentiment scores on one graph, we can clearly see that CNN and Breitbart have a distint rightward skew, meaning that the average sentiment of their article titles is more negative than positive. This is in contrast to NPR, which shows a more balanced bimodal distribution with no clear skew to the left or to the right. CNN seems to be slightly more negative than Breitbart. \n"
   ]
  },
  {
   "cell_type": "markdown",
   "metadata": {},
   "source": [
    "### But we should still ask the question, which words show up the most for all the publications, for each individual publication? Will these words be more negative, positive, or neutral? To do this, we will take the stemmed and stop word cleaned titles and look at them for the top word frequencies."
   ]
  },
  {
   "cell_type": "code",
   "execution_count": 27,
   "metadata": {},
   "outputs": [
    {
     "data": {
      "image/png": "[encoded data removed]",
      "text/plain": [
       "<Figure size 432x288 with 1 Axes>"
      ]
     },
     "metadata": {
      "needs_background": "light"
     },
     "output_type": "display_data"
    }
   ],
   "source": [
    "combined_news_publications = news['tokenized_list'].apply(pd.Series).stack()\n",
    "# calculation word frequency\n",
    "fdist_most = FreqDist(combined_news_publications)\n",
    "\n",
    "# remove punctuation counts\n",
    "for punc in string.punctuation:\n",
    "    del fdist_most[punc]\n",
    "\n",
    "# Frequency Distribution Plot - top 10 most common words\n",
    "fdist_most.plot(10, cumulative=False, color = 'pink', title = 'Combined Sentiment Scores of all News Sources');"
   ]
  },
  {
   "cell_type": "code",
   "execution_count": 28,
   "metadata": {},
   "outputs": [],
   "source": [
    "totalNPR = news['tokenized_list'][(news['publication'] == 'NPR')].apply(pd.Series).stack()\n",
    "totalCNN = news['tokenized_list'][(news['publication'] == 'CNN')].apply(pd.Series).stack()\n",
    "totalBreitbart = news['tokenized_list'][(news['publication'] == 'Breitbart')].apply(pd.Series).stack()"
   ]
  },
  {
   "cell_type": "code",
   "execution_count": 29,
   "metadata": {},
   "outputs": [
    {
     "data": {
      "image/png": "[encoded data removed]",
      "text/plain": [
       "<Figure size 432x288 with 1 Axes>"
      ]
     },
     "metadata": {
      "needs_background": "light"
     },
     "output_type": "display_data"
    }
   ],
   "source": [
    "fdist_most = FreqDist(totalBreitbart) \n",
    "for punc in string.punctuation:\n",
    "    del fdist_most[punc]\n",
    "fdist_most.plot(10, cumulative=False, color = 'red', title = 'Top 10 Most Frequent Breitbart Title Words');"
   ]
  },
  {
   "cell_type": "code",
   "execution_count": 30,
   "metadata": {},
   "outputs": [
    {
     "data": {
      "image/png": "[encoded data removed]",
      "text/plain": [
       "<Figure size 432x288 with 1 Axes>"
      ]
     },
     "metadata": {
      "needs_background": "light"
     },
     "output_type": "display_data"
    }
   ],
   "source": [
    "fdist_most = FreqDist(totalCNN) \n",
    "for punc in string.punctuation:\n",
    "    del fdist_most[punc]\n",
    "fdist_most.plot(10, cumulative=False, color = 'blue', title = 'Top 10 Most Frequent CNN Title Words');"
   ]
  },
  {
   "cell_type": "code",
   "execution_count": 31,
   "metadata": {},
   "outputs": [
    {
     "data": {
      "image/png": "[encoded data removed]",
      "text/plain": [
       "<Figure size 432x288 with 1 Axes>"
      ]
     },
     "metadata": {
      "needs_background": "light"
     },
     "output_type": "display_data"
    }
   ],
   "source": [
    "fdist_most = FreqDist(totalNPR) \n",
    "for punc in string.punctuation:\n",
    "    del fdist_most[punc]\n",
    "fdist_most.plot(10, cumulative=False, color = 'green', title = 'Top 10 Most Frequent NPR Title Words');"
   ]
  },
  {
   "cell_type": "markdown",
   "metadata": {},
   "source": [
    "### We can see from these most frequent words that the name \"Trump\" is the most common word used across the publications, which can be ascribed to the time in which the data was collected, starting from the election of 2016 and through his presidency. The rest of the distributions seem to show a propensity for negative words, such as 'kill', 'die', 'attack', and 'death', which can be ascribed to the fact that news outlets will often over-report serious violent events. \"Though, it should be noted that NPR seems to have these words further down the list, and CNN has the highest frequency of these 'violent' words. \n",
    "\n",
    "\n",
    "### As for our original hypothesis: \n",
    "\"*We hypothesize that the two more politically polar news sources, Breitbart and CNN, will have more polar sentiment (as in frequently positive or negative-- bimodal distribution), and the more centrist news source, NPR, will be more neutral in sentiment.*\" \n",
    "### We feel that our data does support our hypothesis partially, we origianlly did predict that CNN and Breitbart would have a strong bimodal distribution, due to the likely more policially polar nature of their material, and that NPR would be thoroughly neutral, as it is in its political description. NPR did end up being visibly more neutral than the other two, which, while having a bimodal distribution, were both strongly skewed to the left. \"\n",
    "\n",
    "#### As for our future steps, we plan to do further significance evaluation of our sentiment variable, and clean up some of our graphical representation, possibly combining a few to be more consise. "
   ]
  },
  {
   "cell_type": "markdown",
   "metadata": {},
   "source": [
    "_______________________________________________"
   ]
  }
 ],
 "metadata": {
  "kernelspec": {
   "display_name": "Python 3",
   "language": "python",
   "name": "python3"
  },
  "language_info": {
   "codemirror_mode": {
    "name": "ipython",
    "version": 3
   },
   "file_extension": ".py",
   "mimetype": "text/x-python",
   "name": "python",
   "nbconvert_exporter": "python",
   "pygments_lexer": "ipython3",
   "version": "3.8.6"
  }
 },
 "nbformat": 4,
 "nbformat_minor": 2
}
