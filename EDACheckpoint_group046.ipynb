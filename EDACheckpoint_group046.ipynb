{
 "cells": [
  {
   "cell_type": "markdown",
   "metadata": {},
   "source": [
    "# COGS 108 - EDA Checkpoint"
   ]
  },
  {
   "cell_type": "markdown",
   "metadata": {},
   "source": [
    "# Names\n",
    "\n",
    "- Bridget Egan \n",
    "- Dillan Merchant\n",
    "- Jennifer Hang\n",
    "- Sam Zakeri\n",
    "- Connie Chang"
   ]
  },
  {
   "cell_type": "markdown",
   "metadata": {},
   "source": [
    "<a id='research_question'></a>\n",
    "# Research Question"
   ]
  },
  {
   "cell_type": "markdown",
   "metadata": {},
   "source": [
    "**How are American news headline sentiments correlated to their publication source's political leanings?** To do this, we wanted three sources that reflected 'far-left', 'centrist', and 'far-right' political leanings. Using both AllSides and MediaBiasFactCheck, Breitbart was evaluated as the most right-leaning news source of our dataset, CNN was evaluated as the most left-leaning news source, and NPR was evaluated as the most politically-centrist news source [1, 2, 3, 4, 5, 6, 7]. *We hypothesize that the two more politically polar news sources, Breitbart and CNN, will have more polar sentiment (as in frequently positive or negative-- bimodal distribution), and the more centrist news source, NPR, will be more neutral in sentiment.*\n",
    "- [1] https://www.allsides.com/news-source/cnn-media-bias\n",
    "- [2] https://mediabiasfactcheck.com/cnn/\n",
    "- [3] https://mediabiasfactcheck.com/npr/\n",
    "- [4] https://www.allsides.com/news-source/npr-media-bias\n",
    "- [5] https://www.allsides.com/news-source/breitbart\n",
    "- [6] https://mediabiasfactcheck.com/breitbart/\n",
    "- [7] https://www.adfontesmedia.com/static-mbc/"
   ]
  },
  {
   "cell_type": "markdown",
   "metadata": {},
   "source": [
    "# Setup"
   ]
  },
  {
   "cell_type": "code",
   "execution_count": 1,
   "metadata": {},
   "outputs": [
    {
     "name": "stderr",
     "output_type": "stream",
     "text": [
      "[nltk_data] Downloading package vader_lexicon to\n",
      "[nltk_data]     /home/began/nltk_data...\n",
      "[nltk_data]   Package vader_lexicon is already up-to-date!\n"
     ]
    },
    {
     "data": {
      "text/plain": [
       "True"
      ]
     },
     "execution_count": 1,
     "metadata": {},
     "output_type": "execute_result"
    }
   ],
   "source": [
    "import pandas as pd\n",
    "import matplotlib.pyplot as plt\n",
    "import seaborn as sns\n",
    "%matplotlib inline\n",
    "import nltk\n",
    "from nltk import word_tokenize, sent_tokenize, tokenize\n",
    "# from nltk.tokenize import word_tokenize\n",
    "from nltk.corpus import stopwords\n",
    "from nltk.stem import LancasterStemmer, WordNetLemmatizer, PorterStemmer, SnowballStemmer\n",
    "#from nltk.stem.snowball import Snowball\n",
    "from wordcloud import WordCloud, STOPWORDS\n",
    "from textblob import TextBlob\n",
    "\n",
    "from nltk.sentiment.vader import SentimentIntensityAnalyzer \n",
    "nltk.download('vader_lexicon') "
   ]
  },
  {
   "cell_type": "markdown",
   "metadata": {},
   "source": [
    "# Data Cleaning"
   ]
  },
  {
   "cell_type": "markdown",
   "metadata": {},
   "source": [
    "The data is fairly clean to begin with, there are few missing values and the format is consistent throughout. The issue we have is there is a lot of data that we do not need to use. So, to get our data into a useable format, we will only select the three publications we plan to use, Breitbart, CNN, and NPR, and keep the dates and headlines from only 1,000 of each. We decided on 1,000 of each because the dataset had a higher number of Breitbart articles than any other publication, and we wanted there to be a standard number of headlines for each source. Given that we plan on doing the additional step of sentiment analysis after this data checkpoint, most of our EDA will come next week, and so data distribution checking or data transformations will not be necessary at this time. It is also possible that as this project proceeds, we may decide to add in more points of data analysis, such as increasing how many articles we analyze from each news source, or even adding in different news sources to give us data for a 'center-right' and 'center-left source', if we feel that would improve the strength of our project."
   ]
  },
  {
   "cell_type": "code",
   "execution_count": 2,
   "metadata": {
    "scrolled": true
   },
   "outputs": [
    {
     "name": "stderr",
     "output_type": "stream",
     "text": [
      "Skipping line 17535: field larger than field limit (131072)\n",
      "Skipping line 1429: field larger than field limit (131072)\n",
      "Skipping line 1469: field larger than field limit (131072)\n",
      "Skipping line 1516: field larger than field limit (131072)\n",
      "Skipping line 1740: field larger than field limit (131072)\n",
      "Skipping line 3774: field larger than field limit (131072)\n",
      "Skipping line 3779: field larger than field limit (131072)\n",
      "Skipping line 3791: field larger than field limit (131072)\n",
      "Skipping line 33121: field larger than field limit (131072)\n",
      "Skipping line 34127: field larger than field limit (131072)\n"
     ]
    },
    {
     "name": "stdout",
     "output_type": "stream",
     "text": [
      "(49999, 10)\n",
      "(49992, 10)\n",
      "(42569, 10)\n"
     ]
    }
   ],
   "source": [
    "#this imports the relevant data sets from three separate files, and sanitizes the input.\n",
    "\n",
    "news1 = pd.read_csv('csv_files/articles1.csv', engine = 'python', error_bad_lines=False)\n",
    "news2 = pd.read_csv('csv_files/articles2.csv', engine = 'python', error_bad_lines=False)\n",
    "news3 = pd.read_csv('csv_files/articles3.csv', engine = 'python', error_bad_lines=False)\n",
    "\n",
    "\n",
    "print(news1.shape)\n",
    "print(news2.shape)\n",
    "print(news3.shape)"
   ]
  },
  {
   "cell_type": "code",
   "execution_count": 3,
   "metadata": {},
   "outputs": [
    {
     "data": {
      "text/plain": [
       "(142560, 10)"
      ]
     },
     "execution_count": 3,
     "metadata": {},
     "output_type": "execute_result"
    }
   ],
   "source": [
    "# combine three dataframes into one\n",
    "news = news1.append(news2).append(news3)\n",
    "news.shape"
   ]
  },
  {
   "cell_type": "code",
   "execution_count": 4,
   "metadata": {},
   "outputs": [
    {
     "data": {
      "text/html": [
       "<div>\n",
       "<style scoped>\n",
       "    .dataframe tbody tr th:only-of-type {\n",
       "        vertical-align: middle;\n",
       "    }\n",
       "\n",
       "    .dataframe tbody tr th {\n",
       "        vertical-align: top;\n",
       "    }\n",
       "\n",
       "    .dataframe thead th {\n",
       "        text-align: right;\n",
       "    }\n",
       "</style>\n",
       "<table border=\"1\" class=\"dataframe\">\n",
       "  <thead>\n",
       "    <tr style=\"text-align: right;\">\n",
       "      <th></th>\n",
       "      <th>Unnamed: 0</th>\n",
       "      <th>id</th>\n",
       "      <th>title</th>\n",
       "      <th>publication</th>\n",
       "      <th>author</th>\n",
       "      <th>date</th>\n",
       "      <th>year</th>\n",
       "      <th>month</th>\n",
       "      <th>url</th>\n",
       "      <th>content</th>\n",
       "    </tr>\n",
       "  </thead>\n",
       "  <tbody>\n",
       "    <tr>\n",
       "      <th>0</th>\n",
       "      <td>0</td>\n",
       "      <td>17283</td>\n",
       "      <td>House Republicans Fret About Winning Their Hea...</td>\n",
       "      <td>New York Times</td>\n",
       "      <td>Carl Hulse</td>\n",
       "      <td>2016-12-31</td>\n",
       "      <td>2016.0</td>\n",
       "      <td>12.0</td>\n",
       "      <td>NaN</td>\n",
       "      <td>WASHINGTON  —   Congressional Republicans have...</td>\n",
       "    </tr>\n",
       "    <tr>\n",
       "      <th>1</th>\n",
       "      <td>1</td>\n",
       "      <td>17284</td>\n",
       "      <td>Rift Between Officers and Residents as Killing...</td>\n",
       "      <td>New York Times</td>\n",
       "      <td>Benjamin Mueller and Al Baker</td>\n",
       "      <td>2017-06-19</td>\n",
       "      <td>2017.0</td>\n",
       "      <td>6.0</td>\n",
       "      <td>NaN</td>\n",
       "      <td>After the bullet shells get counted, the blood...</td>\n",
       "    </tr>\n",
       "    <tr>\n",
       "      <th>2</th>\n",
       "      <td>2</td>\n",
       "      <td>17285</td>\n",
       "      <td>Tyrus Wong, ‘Bambi’ Artist Thwarted by Racial ...</td>\n",
       "      <td>New York Times</td>\n",
       "      <td>Margalit Fox</td>\n",
       "      <td>2017-01-06</td>\n",
       "      <td>2017.0</td>\n",
       "      <td>1.0</td>\n",
       "      <td>NaN</td>\n",
       "      <td>When Walt Disney’s “Bambi” opened in 1942, cri...</td>\n",
       "    </tr>\n",
       "    <tr>\n",
       "      <th>3</th>\n",
       "      <td>3</td>\n",
       "      <td>17286</td>\n",
       "      <td>Among Deaths in 2016, a Heavy Toll in Pop Musi...</td>\n",
       "      <td>New York Times</td>\n",
       "      <td>William McDonald</td>\n",
       "      <td>2017-04-10</td>\n",
       "      <td>2017.0</td>\n",
       "      <td>4.0</td>\n",
       "      <td>NaN</td>\n",
       "      <td>Death may be the great equalizer, but it isn’t...</td>\n",
       "    </tr>\n",
       "    <tr>\n",
       "      <th>4</th>\n",
       "      <td>4</td>\n",
       "      <td>17287</td>\n",
       "      <td>Kim Jong-un Says North Korea Is Preparing to T...</td>\n",
       "      <td>New York Times</td>\n",
       "      <td>Choe Sang-Hun</td>\n",
       "      <td>2017-01-02</td>\n",
       "      <td>2017.0</td>\n",
       "      <td>1.0</td>\n",
       "      <td>NaN</td>\n",
       "      <td>SEOUL, South Korea  —   North Korea’s leader, ...</td>\n",
       "    </tr>\n",
       "  </tbody>\n",
       "</table>\n",
       "</div>"
      ],
      "text/plain": [
       "   Unnamed: 0     id                                              title  \\\n",
       "0           0  17283  House Republicans Fret About Winning Their Hea...   \n",
       "1           1  17284  Rift Between Officers and Residents as Killing...   \n",
       "2           2  17285  Tyrus Wong, ‘Bambi’ Artist Thwarted by Racial ...   \n",
       "3           3  17286  Among Deaths in 2016, a Heavy Toll in Pop Musi...   \n",
       "4           4  17287  Kim Jong-un Says North Korea Is Preparing to T...   \n",
       "\n",
       "      publication                         author        date    year  month  \\\n",
       "0  New York Times                     Carl Hulse  2016-12-31  2016.0   12.0   \n",
       "1  New York Times  Benjamin Mueller and Al Baker  2017-06-19  2017.0    6.0   \n",
       "2  New York Times                   Margalit Fox  2017-01-06  2017.0    1.0   \n",
       "3  New York Times               William McDonald  2017-04-10  2017.0    4.0   \n",
       "4  New York Times                  Choe Sang-Hun  2017-01-02  2017.0    1.0   \n",
       "\n",
       "   url                                            content  \n",
       "0  NaN  WASHINGTON  —   Congressional Republicans have...  \n",
       "1  NaN  After the bullet shells get counted, the blood...  \n",
       "2  NaN  When Walt Disney’s “Bambi” opened in 1942, cri...  \n",
       "3  NaN  Death may be the great equalizer, but it isn’t...  \n",
       "4  NaN  SEOUL, South Korea  —   North Korea’s leader, ...  "
      ]
     },
     "execution_count": 4,
     "metadata": {},
     "output_type": "execute_result"
    }
   ],
   "source": [
    "news.head()"
   ]
  },
  {
   "cell_type": "code",
   "execution_count": 5,
   "metadata": {},
   "outputs": [
    {
     "data": {
      "text/plain": [
       "Breitbart              23780\n",
       "New York Post          17493\n",
       "NPR                    11992\n",
       "CNN                    11488\n",
       "Washington Post        11112\n",
       "Reuters                10710\n",
       "Guardian                8681\n",
       "New York Times          7803\n",
       "Atlantic                7172\n",
       "Business Insider        6757\n",
       "National Review         6203\n",
       "Talking Points Memo     5214\n",
       "Vox                     4947\n",
       "Buzzfeed News           4854\n",
       "Fox News                4354\n",
       "Name: publication, dtype: int64"
      ]
     },
     "execution_count": 5,
     "metadata": {},
     "output_type": "execute_result"
    }
   ],
   "source": [
    "# check number of news for each source\n",
    "news['publication'].value_counts()"
   ]
  },
  {
   "cell_type": "code",
   "execution_count": 6,
   "metadata": {},
   "outputs": [
    {
     "data": {
      "text/html": [
       "<div>\n",
       "<style scoped>\n",
       "    .dataframe tbody tr th:only-of-type {\n",
       "        vertical-align: middle;\n",
       "    }\n",
       "\n",
       "    .dataframe tbody tr th {\n",
       "        vertical-align: top;\n",
       "    }\n",
       "\n",
       "    .dataframe thead th {\n",
       "        text-align: right;\n",
       "    }\n",
       "</style>\n",
       "<table border=\"1\" class=\"dataframe\">\n",
       "  <thead>\n",
       "    <tr style=\"text-align: right;\">\n",
       "      <th></th>\n",
       "      <th>title</th>\n",
       "      <th>publication</th>\n",
       "      <th>date</th>\n",
       "    </tr>\n",
       "  </thead>\n",
       "  <tbody>\n",
       "    <tr>\n",
       "      <th>0</th>\n",
       "      <td>House Republicans Fret About Winning Their Hea...</td>\n",
       "      <td>New York Times</td>\n",
       "      <td>2016-12-31</td>\n",
       "    </tr>\n",
       "    <tr>\n",
       "      <th>1</th>\n",
       "      <td>Rift Between Officers and Residents as Killing...</td>\n",
       "      <td>New York Times</td>\n",
       "      <td>2017-06-19</td>\n",
       "    </tr>\n",
       "    <tr>\n",
       "      <th>2</th>\n",
       "      <td>Tyrus Wong, ‘Bambi’ Artist Thwarted by Racial ...</td>\n",
       "      <td>New York Times</td>\n",
       "      <td>2017-01-06</td>\n",
       "    </tr>\n",
       "    <tr>\n",
       "      <th>3</th>\n",
       "      <td>Among Deaths in 2016, a Heavy Toll in Pop Musi...</td>\n",
       "      <td>New York Times</td>\n",
       "      <td>2017-04-10</td>\n",
       "    </tr>\n",
       "    <tr>\n",
       "      <th>4</th>\n",
       "      <td>Kim Jong-un Says North Korea Is Preparing to T...</td>\n",
       "      <td>New York Times</td>\n",
       "      <td>2017-01-02</td>\n",
       "    </tr>\n",
       "  </tbody>\n",
       "</table>\n",
       "</div>"
      ],
      "text/plain": [
       "                                               title     publication  \\\n",
       "0  House Republicans Fret About Winning Their Hea...  New York Times   \n",
       "1  Rift Between Officers and Residents as Killing...  New York Times   \n",
       "2  Tyrus Wong, ‘Bambi’ Artist Thwarted by Racial ...  New York Times   \n",
       "3  Among Deaths in 2016, a Heavy Toll in Pop Musi...  New York Times   \n",
       "4  Kim Jong-un Says North Korea Is Preparing to T...  New York Times   \n",
       "\n",
       "         date  \n",
       "0  2016-12-31  \n",
       "1  2017-06-19  \n",
       "2  2017-01-06  \n",
       "3  2017-04-10  \n",
       "4  2017-01-02  "
      ]
     },
     "execution_count": 6,
     "metadata": {},
     "output_type": "execute_result"
    }
   ],
   "source": [
    "news_cleaned = news[['title', 'publication', 'date']]\n",
    "news_cleaned.head()"
   ]
  },
  {
   "cell_type": "code",
   "execution_count": 7,
   "metadata": {},
   "outputs": [
    {
     "data": {
      "text/plain": [
       "False"
      ]
     },
     "execution_count": 7,
     "metadata": {},
     "output_type": "execute_result"
    }
   ],
   "source": [
    "news_cleaned = news_cleaned.dropna()\n",
    "news_cleaned.isnull().values.any()"
   ]
  },
  {
   "cell_type": "code",
   "execution_count": 8,
   "metadata": {},
   "outputs": [
    {
     "data": {
      "text/plain": [
       "Breitbart    23780\n",
       "NPR          11992\n",
       "CNN          11488\n",
       "Name: publication, dtype: int64"
      ]
     },
     "execution_count": 8,
     "metadata": {},
     "output_type": "execute_result"
    }
   ],
   "source": [
    "# keep news only from 'Breitbart', 'CNN', and 'NPR'\n",
    "sources = ['Breitbart', 'CNN', 'NPR']\n",
    "news = news_cleaned[news_cleaned['publication'].isin(sources)]\n",
    "\n",
    "news['publication'].value_counts()"
   ]
  },
  {
   "cell_type": "code",
   "execution_count": 9,
   "metadata": {},
   "outputs": [
    {
     "data": {
      "text/plain": [
       "Breitbart    1000\n",
       "CNN          1000\n",
       "NPR          1000\n",
       "Name: publication, dtype: int64"
      ]
     },
     "execution_count": 9,
     "metadata": {},
     "output_type": "execute_result"
    }
   ],
   "source": [
    "# pick 1000 random news for each source\n",
    "news = news.groupby(\"publication\").sample(n=1000)\n",
    "\n",
    "news['publication'].value_counts()"
   ]
  },
  {
   "cell_type": "code",
   "execution_count": 10,
   "metadata": {},
   "outputs": [
    {
     "data": {
      "text/html": [
       "<div>\n",
       "<style scoped>\n",
       "    .dataframe tbody tr th:only-of-type {\n",
       "        vertical-align: middle;\n",
       "    }\n",
       "\n",
       "    .dataframe tbody tr th {\n",
       "        vertical-align: top;\n",
       "    }\n",
       "\n",
       "    .dataframe thead th {\n",
       "        text-align: right;\n",
       "    }\n",
       "</style>\n",
       "<table border=\"1\" class=\"dataframe\">\n",
       "  <thead>\n",
       "    <tr style=\"text-align: right;\">\n",
       "      <th></th>\n",
       "      <th>title</th>\n",
       "      <th>publication</th>\n",
       "      <th>date</th>\n",
       "    </tr>\n",
       "  </thead>\n",
       "  <tbody>\n",
       "    <tr>\n",
       "      <th>22034</th>\n",
       "      <td>Shooting In Sweden Immigrant Ghetto Shopping M...</td>\n",
       "      <td>Breitbart</td>\n",
       "      <td>2016-07-26</td>\n",
       "    </tr>\n",
       "    <tr>\n",
       "      <th>27549</th>\n",
       "      <td>Bolton and Gorka Slam ‘Neocons For Hillary’ - ...</td>\n",
       "      <td>Breitbart</td>\n",
       "      <td>2016-05-05</td>\n",
       "    </tr>\n",
       "    <tr>\n",
       "      <th>18353</th>\n",
       "      <td>Rich Lowry: ’Zero Chance’ #NeverTrump Ever Hap...</td>\n",
       "      <td>Breitbart</td>\n",
       "      <td>2016-06-11</td>\n",
       "    </tr>\n",
       "    <tr>\n",
       "      <th>17907</th>\n",
       "      <td>Biden: My Biggest Problem With Trump Is Not Hi...</td>\n",
       "      <td>Breitbart</td>\n",
       "      <td>2016-09-01</td>\n",
       "    </tr>\n",
       "    <tr>\n",
       "      <th>30625</th>\n",
       "      <td>Hillary Clinton’s Foreign Funder Gilbert Chago...</td>\n",
       "      <td>Breitbart</td>\n",
       "      <td>2016-08-29</td>\n",
       "    </tr>\n",
       "  </tbody>\n",
       "</table>\n",
       "</div>"
      ],
      "text/plain": [
       "                                                   title publication  \\\n",
       "22034  Shooting In Sweden Immigrant Ghetto Shopping M...   Breitbart   \n",
       "27549  Bolton and Gorka Slam ‘Neocons For Hillary’ - ...   Breitbart   \n",
       "18353  Rich Lowry: ’Zero Chance’ #NeverTrump Ever Hap...   Breitbart   \n",
       "17907  Biden: My Biggest Problem With Trump Is Not Hi...   Breitbart   \n",
       "30625  Hillary Clinton’s Foreign Funder Gilbert Chago...   Breitbart   \n",
       "\n",
       "             date  \n",
       "22034  2016-07-26  \n",
       "27549  2016-05-05  \n",
       "18353  2016-06-11  \n",
       "17907  2016-09-01  \n",
       "30625  2016-08-29  "
      ]
     },
     "execution_count": 10,
     "metadata": {},
     "output_type": "execute_result"
    }
   ],
   "source": [
    "news.head()"
   ]
  },
  {
   "cell_type": "markdown",
   "metadata": {},
   "source": [
    "# Data Analysis & Results (EDA)"
   ]
  },
  {
   "cell_type": "markdown",
   "metadata": {},
   "source": [
    "Carry out EDA on your dataset(s); Describe in this section"
   ]
  },
  {
   "cell_type": "code",
   "execution_count": 11,
   "metadata": {},
   "outputs": [],
   "source": [
    "news['title'] = news['title'].astype(str)\n",
    "\n",
    "## Lowercase\n",
    "news['title'] = news['title'].apply(lambda x: \" \".join(x.lower() for x in x.split()))\n",
    "\n",
    "#remove punct\n",
    "def remove_punct(string):\n",
    "    punctuation= '''‘’!()-[]{};:'\", <>./?@#$%^&*_~'''\n",
    "    for x in punctuation:\n",
    "        string = string.replace(x, \" \")\n",
    "    return string\n",
    "\n",
    "news['title'] = news['title'].apply(remove_punct)\n",
    "\n",
    "#tokenize \n",
    "news['title'] = news['title'].apply(word_tokenize)\n",
    "\n",
    "\n",
    "##stemming \n",
    "stemmer = PorterStemmer()\n",
    "news['title'] = news['title'].apply(lambda x: [stemmer.stem(y) for y in x])\n",
    "\n",
    "\n",
    "## stop word remove\n",
    "stop_words = set(stopwords.words('english'))\n",
    "news['title'] = news['title'].apply(lambda x: [item for item in x if item not in stop_words])\n",
    "\n",
    "# putting them back into lists\n",
    "def joiner(title_list): \n",
    "    return ' '.join(title_list)\n",
    "news['title'] = news['title'].apply(joiner)\n",
    "\n",
    "analyser = SentimentIntensityAnalyzer()\n",
    "\n",
    "title_sentences = list(news['title'])\n",
    "def senti(input_list):\n",
    "    output = pd.DataFrame()\n",
    "    for sentence in title_sentences:\n",
    "        ss = analyser.polarity_scores(sentence)\n",
    "        ss['cleaned_titles'] = sentence\n",
    "        output = output.append(ss, ignore_index=True)\n",
    "    return output\n",
    "\n",
    "\n",
    "news_sentiments = senti(title_sentences)\n",
    "\n"
   ]
  },
  {
   "cell_type": "code",
   "execution_count": 12,
   "metadata": {},
   "outputs": [
    {
     "data": {
      "text/html": [
       "<div>\n",
       "<style scoped>\n",
       "    .dataframe tbody tr th:only-of-type {\n",
       "        vertical-align: middle;\n",
       "    }\n",
       "\n",
       "    .dataframe tbody tr th {\n",
       "        vertical-align: top;\n",
       "    }\n",
       "\n",
       "    .dataframe thead th {\n",
       "        text-align: right;\n",
       "    }\n",
       "</style>\n",
       "<table border=\"1\" class=\"dataframe\">\n",
       "  <thead>\n",
       "    <tr style=\"text-align: right;\">\n",
       "      <th></th>\n",
       "      <th>index</th>\n",
       "      <th>title</th>\n",
       "      <th>publication</th>\n",
       "      <th>date</th>\n",
       "      <th>title_sentiment</th>\n",
       "    </tr>\n",
       "  </thead>\n",
       "  <tbody>\n",
       "    <tr>\n",
       "      <th>0</th>\n",
       "      <td>22034</td>\n",
       "      <td>shoot sweden immigr ghetto shop mall — gunman ...</td>\n",
       "      <td>Breitbart</td>\n",
       "      <td>2016-07-26</td>\n",
       "      <td>-0.3400</td>\n",
       "    </tr>\n",
       "    <tr>\n",
       "      <th>1</th>\n",
       "      <td>27549</td>\n",
       "      <td>bolton gorka slam neocon hillari breitbart</td>\n",
       "      <td>Breitbart</td>\n",
       "      <td>2016-05-05</td>\n",
       "      <td>-0.3818</td>\n",
       "    </tr>\n",
       "    <tr>\n",
       "      <th>2</th>\n",
       "      <td>18353</td>\n",
       "      <td>rich lowri zero chanc nevertrump ever happen</td>\n",
       "      <td>Breitbart</td>\n",
       "      <td>2016-06-11</td>\n",
       "      <td>0.5574</td>\n",
       "    </tr>\n",
       "    <tr>\n",
       "      <th>3</th>\n",
       "      <td>17907</td>\n",
       "      <td>biden biggest problem trump hi cockamami polic...</td>\n",
       "      <td>Breitbart</td>\n",
       "      <td>2016-09-01</td>\n",
       "      <td>0.0000</td>\n",
       "    </tr>\n",
       "    <tr>\n",
       "      <th>4</th>\n",
       "      <td>30625</td>\n",
       "      <td>hillari clinton foreign funder gilbert chagour...</td>\n",
       "      <td>Breitbart</td>\n",
       "      <td>2016-08-29</td>\n",
       "      <td>-0.5267</td>\n",
       "    </tr>\n",
       "    <tr>\n",
       "      <th>...</th>\n",
       "      <td>...</td>\n",
       "      <td>...</td>\n",
       "      <td>...</td>\n",
       "      <td>...</td>\n",
       "      <td>...</td>\n",
       "    </tr>\n",
       "    <tr>\n",
       "      <th>2995</th>\n",
       "      <td>12536</td>\n",
       "      <td>beak fleek meet colorado charm chicken</td>\n",
       "      <td>NPR</td>\n",
       "      <td>2016-08-05</td>\n",
       "      <td>0.4019</td>\n",
       "    </tr>\n",
       "    <tr>\n",
       "      <th>2996</th>\n",
       "      <td>12110</td>\n",
       "      <td>melania trump pois move sidelin spotlight</td>\n",
       "      <td>NPR</td>\n",
       "      <td>2016-07-17</td>\n",
       "      <td>0.0000</td>\n",
       "    </tr>\n",
       "    <tr>\n",
       "      <th>2997</th>\n",
       "      <td>7210</td>\n",
       "      <td>know suspect manchest arena bomb</td>\n",
       "      <td>NPR</td>\n",
       "      <td>2017-05-24</td>\n",
       "      <td>-0.6597</td>\n",
       "    </tr>\n",
       "    <tr>\n",
       "      <th>2998</th>\n",
       "      <td>9392</td>\n",
       "      <td>scott kelli reflect hi year planet</td>\n",
       "      <td>NPR</td>\n",
       "      <td>2016-03-01</td>\n",
       "      <td>0.0000</td>\n",
       "    </tr>\n",
       "    <tr>\n",
       "      <th>2999</th>\n",
       "      <td>11012</td>\n",
       "      <td>invent machin spit drug whole new way</td>\n",
       "      <td>NPR</td>\n",
       "      <td>2016-05-23</td>\n",
       "      <td>0.0000</td>\n",
       "    </tr>\n",
       "  </tbody>\n",
       "</table>\n",
       "<p>3000 rows × 5 columns</p>\n",
       "</div>"
      ],
      "text/plain": [
       "      index                                              title publication  \\\n",
       "0     22034  shoot sweden immigr ghetto shop mall — gunman ...   Breitbart   \n",
       "1     27549         bolton gorka slam neocon hillari breitbart   Breitbart   \n",
       "2     18353       rich lowri zero chanc nevertrump ever happen   Breitbart   \n",
       "3     17907  biden biggest problem trump hi cockamami polic...   Breitbart   \n",
       "4     30625  hillari clinton foreign funder gilbert chagour...   Breitbart   \n",
       "...     ...                                                ...         ...   \n",
       "2995  12536             beak fleek meet colorado charm chicken         NPR   \n",
       "2996  12110          melania trump pois move sidelin spotlight         NPR   \n",
       "2997   7210                   know suspect manchest arena bomb         NPR   \n",
       "2998   9392                 scott kelli reflect hi year planet         NPR   \n",
       "2999  11012              invent machin spit drug whole new way         NPR   \n",
       "\n",
       "            date  title_sentiment  \n",
       "0     2016-07-26          -0.3400  \n",
       "1     2016-05-05          -0.3818  \n",
       "2     2016-06-11           0.5574  \n",
       "3     2016-09-01           0.0000  \n",
       "4     2016-08-29          -0.5267  \n",
       "...          ...              ...  \n",
       "2995  2016-08-05           0.4019  \n",
       "2996  2016-07-17           0.0000  \n",
       "2997  2017-05-24          -0.6597  \n",
       "2998  2016-03-01           0.0000  \n",
       "2999  2016-05-23           0.0000  \n",
       "\n",
       "[3000 rows x 5 columns]"
      ]
     },
     "execution_count": 12,
     "metadata": {},
     "output_type": "execute_result"
    }
   ],
   "source": [
    "news_sentiments\n",
    "title_sentiments = pd.DataFrame(news_sentiments['compound']) \n",
    "\n",
    "\n",
    "title_sentiments\n",
    "## TRYING TO JOIN NEWS AND TITLE_SENTIMENTS SO THAT COMPOUND IS THE NAME OF A COLUMN IN NEWS \n",
    "news = news.reset_index()\n",
    "news['title_sentiment']  = news_sentiments['compound']\n",
    "news"
   ]
  },
  {
   "cell_type": "code",
   "execution_count": 91,
   "metadata": {},
   "outputs": [
    {
     "data": {
      "image/png": "[encoded data removed]",
      "text/plain": [
       "<Figure size 432x288 with 1 Axes>"
      ]
     },
     "metadata": {
      "needs_background": "light"
     },
     "output_type": "display_data"
    }
   ],
   "source": [
    "total_plot = sns.histplot(news['title_sentiment'], bins=50, kde=True);\n",
    "\n",
    "total_plot.set(ylim=(0,1500));\n",
    "total_plot.set(xlim=(-1,1));"
   ]
  },
  {
   "cell_type": "code",
   "execution_count": 94,
   "metadata": {},
   "outputs": [
    {
     "data": {
      "image/png": "[encoded data removed]",
      "text/plain": [
       "<Figure size 432x288 with 1 Axes>"
      ]
     },
     "metadata": {
      "needs_background": "light"
     },
     "output_type": "display_data"
    }
   ],
   "source": [
    "breitbart = news[news['publication'] == 'Breitbart']\n",
    "breitbart_plot = sns.histplot(breitbart['title_sentiment'], bins=50, kde=True)\n",
    "\n",
    "breitbart_plot.set_title(\"Breitbart Sentiment Distribution\")\n",
    "breitbart_plot.set(ylim=(0,500))\n",
    "breitbart_plot.set(xlim=(-1,1));"
   ]
  },
  {
   "cell_type": "code",
   "execution_count": 93,
   "metadata": {},
   "outputs": [
    {
     "data": {
      "image/png": "[encoded data removed]",
      "text/plain": [
       "<Figure size 432x288 with 1 Axes>"
      ]
     },
     "metadata": {
      "needs_background": "light"
     },
     "output_type": "display_data"
    }
   ],
   "source": [
    "cnn = news[news['publication'] == 'CNN']\n",
    "cnn_plot = sns.histplot(cnn['title_sentiment'], bins=50, kde=True);\n",
    "\n",
    "cnn_plot.set_title(\"CNN Sentiment Distribution\");\n",
    "cnn_plot.set(ylim=(0,500));\n",
    "cnn_plot.set(xlim=(-1,1));"
   ]
  },
  {
   "cell_type": "code",
   "execution_count": 92,
   "metadata": {},
   "outputs": [
    {
     "data": {
      "image/png": "[encoded data removed]",
      "text/plain": [
       "<Figure size 432x288 with 1 Axes>"
      ]
     },
     "metadata": {
      "needs_background": "light"
     },
     "output_type": "display_data"
    }
   ],
   "source": [
    "npr = news[news['publication'] == 'NPR']\n",
    "npr_plot = sns.histplot(npr['title_sentiment'], bins=50, kde=True);\n",
    "\n",
    "npr_plot.set_title(\"NPR Sentiment Distribution\");\n",
    "npr_plot.set(ylim=(0,500));\n",
    "npr_plot.set(xlim=(-1,1));"
   ]
  },
  {
   "cell_type": "code",
   "execution_count": 95,
   "metadata": {
    "scrolled": true
   },
   "outputs": [
    {
     "data": {
      "text/html": [
       "<div>\n",
       "<style scoped>\n",
       "    .dataframe tbody tr th:only-of-type {\n",
       "        vertical-align: middle;\n",
       "    }\n",
       "\n",
       "    .dataframe tbody tr th {\n",
       "        vertical-align: top;\n",
       "    }\n",
       "\n",
       "    .dataframe thead th {\n",
       "        text-align: right;\n",
       "    }\n",
       "</style>\n",
       "<table border=\"1\" class=\"dataframe\">\n",
       "  <thead>\n",
       "    <tr style=\"text-align: right;\">\n",
       "      <th></th>\n",
       "      <th>index</th>\n",
       "      <th>title</th>\n",
       "      <th>publication</th>\n",
       "      <th>date</th>\n",
       "      <th>title_sentiment</th>\n",
       "    </tr>\n",
       "  </thead>\n",
       "  <tbody>\n",
       "    <tr>\n",
       "      <th>0</th>\n",
       "      <td>22034</td>\n",
       "      <td>shoot sweden immigr ghetto shop mall — gunman ...</td>\n",
       "      <td>Breitbart</td>\n",
       "      <td>2016-07-26</td>\n",
       "      <td>-0.3400</td>\n",
       "    </tr>\n",
       "    <tr>\n",
       "      <th>1</th>\n",
       "      <td>27549</td>\n",
       "      <td>bolton gorka slam neocon hillari breitbart</td>\n",
       "      <td>Breitbart</td>\n",
       "      <td>2016-05-05</td>\n",
       "      <td>-0.3818</td>\n",
       "    </tr>\n",
       "    <tr>\n",
       "      <th>2</th>\n",
       "      <td>18353</td>\n",
       "      <td>rich lowri zero chanc nevertrump ever happen</td>\n",
       "      <td>Breitbart</td>\n",
       "      <td>2016-06-11</td>\n",
       "      <td>0.5574</td>\n",
       "    </tr>\n",
       "    <tr>\n",
       "      <th>3</th>\n",
       "      <td>17907</td>\n",
       "      <td>biden biggest problem trump hi cockamami polic...</td>\n",
       "      <td>Breitbart</td>\n",
       "      <td>2016-09-01</td>\n",
       "      <td>0.0000</td>\n",
       "    </tr>\n",
       "    <tr>\n",
       "      <th>4</th>\n",
       "      <td>30625</td>\n",
       "      <td>hillari clinton foreign funder gilbert chagour...</td>\n",
       "      <td>Breitbart</td>\n",
       "      <td>2016-08-29</td>\n",
       "      <td>-0.5267</td>\n",
       "    </tr>\n",
       "    <tr>\n",
       "      <th>...</th>\n",
       "      <td>...</td>\n",
       "      <td>...</td>\n",
       "      <td>...</td>\n",
       "      <td>...</td>\n",
       "      <td>...</td>\n",
       "    </tr>\n",
       "    <tr>\n",
       "      <th>2995</th>\n",
       "      <td>12536</td>\n",
       "      <td>beak fleek meet colorado charm chicken</td>\n",
       "      <td>NPR</td>\n",
       "      <td>2016-08-05</td>\n",
       "      <td>0.4019</td>\n",
       "    </tr>\n",
       "    <tr>\n",
       "      <th>2996</th>\n",
       "      <td>12110</td>\n",
       "      <td>melania trump pois move sidelin spotlight</td>\n",
       "      <td>NPR</td>\n",
       "      <td>2016-07-17</td>\n",
       "      <td>0.0000</td>\n",
       "    </tr>\n",
       "    <tr>\n",
       "      <th>2997</th>\n",
       "      <td>7210</td>\n",
       "      <td>know suspect manchest arena bomb</td>\n",
       "      <td>NPR</td>\n",
       "      <td>2017-05-24</td>\n",
       "      <td>-0.6597</td>\n",
       "    </tr>\n",
       "    <tr>\n",
       "      <th>2998</th>\n",
       "      <td>9392</td>\n",
       "      <td>scott kelli reflect hi year planet</td>\n",
       "      <td>NPR</td>\n",
       "      <td>2016-03-01</td>\n",
       "      <td>0.0000</td>\n",
       "    </tr>\n",
       "    <tr>\n",
       "      <th>2999</th>\n",
       "      <td>11012</td>\n",
       "      <td>invent machin spit drug whole new way</td>\n",
       "      <td>NPR</td>\n",
       "      <td>2016-05-23</td>\n",
       "      <td>0.0000</td>\n",
       "    </tr>\n",
       "  </tbody>\n",
       "</table>\n",
       "<p>3000 rows × 5 columns</p>\n",
       "</div>"
      ],
      "text/plain": [
       "      index                                              title publication  \\\n",
       "0     22034  shoot sweden immigr ghetto shop mall — gunman ...   Breitbart   \n",
       "1     27549         bolton gorka slam neocon hillari breitbart   Breitbart   \n",
       "2     18353       rich lowri zero chanc nevertrump ever happen   Breitbart   \n",
       "3     17907  biden biggest problem trump hi cockamami polic...   Breitbart   \n",
       "4     30625  hillari clinton foreign funder gilbert chagour...   Breitbart   \n",
       "...     ...                                                ...         ...   \n",
       "2995  12536             beak fleek meet colorado charm chicken         NPR   \n",
       "2996  12110          melania trump pois move sidelin spotlight         NPR   \n",
       "2997   7210                   know suspect manchest arena bomb         NPR   \n",
       "2998   9392                 scott kelli reflect hi year planet         NPR   \n",
       "2999  11012              invent machin spit drug whole new way         NPR   \n",
       "\n",
       "            date  title_sentiment  \n",
       "0     2016-07-26          -0.3400  \n",
       "1     2016-05-05          -0.3818  \n",
       "2     2016-06-11           0.5574  \n",
       "3     2016-09-01           0.0000  \n",
       "4     2016-08-29          -0.5267  \n",
       "...          ...              ...  \n",
       "2995  2016-08-05           0.4019  \n",
       "2996  2016-07-17           0.0000  \n",
       "2997  2017-05-24          -0.6597  \n",
       "2998  2016-03-01           0.0000  \n",
       "2999  2016-05-23           0.0000  \n",
       "\n",
       "[3000 rows x 5 columns]"
      ]
     },
     "execution_count": 95,
     "metadata": {},
     "output_type": "execute_result"
    }
   ],
   "source": [
    "news"
   ]
  },
  {
   "cell_type": "code",
   "execution_count": null,
   "metadata": {},
   "outputs": [],
   "source": []
  }
 ],
 "metadata": {
  "kernelspec": {
   "display_name": "Python 3",
   "language": "python",
   "name": "python3"
  },
  "language_info": {
   "codemirror_mode": {
    "name": "ipython",
    "version": 3
   },
   "file_extension": ".py",
   "mimetype": "text/x-python",
   "name": "python",
   "nbconvert_exporter": "python",
   "pygments_lexer": "ipython3",
   "version": "3.8.6"
  }
 },
 "nbformat": 4,
 "nbformat_minor": 2
}
