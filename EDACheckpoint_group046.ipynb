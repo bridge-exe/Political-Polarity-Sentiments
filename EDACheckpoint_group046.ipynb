{
 "cells": [
  {
   "cell_type": "markdown",
   "metadata": {},
   "source": [
    "# COGS 108 - EDA Checkpoint"
   ]
  },
  {
   "cell_type": "markdown",
   "metadata": {},
   "source": [
    "# Names\n",
    "\n",
    "- Bridget Egan \n",
    "- Dillan Merchant\n",
    "- Jennifer Hang\n",
    "- Sam Zakeri\n",
    "- Connie Chang"
   ]
  },
  {
   "cell_type": "markdown",
   "metadata": {},
   "source": [
    "# Research Question"
   ]
  },
  {
   "cell_type": "markdown",
   "metadata": {},
   "source": [
    "**How are American news headline sentiments correlated to their publication source's political leanings?** To do this, we wanted three sources that reflected 'far-left', 'centrist', and 'far-right' political leanings. Using both AllSides and MediaBiasFactCheck, Breitbart was evaluated as the most right-leaning news source of our dataset, CNN was evaluated as the most left-leaning news source, and NPR was evaluated as the most politically-centrist news source [1, 2, 3, 4, 5, 6, 7]. *We hypothesize that the two more politically polar news sources, Breitbart and CNN, will have more polar sentiment (as in frequently positive or negative-- bimodal distribution), and the more centrist news source, NPR, will be more neutral in sentiment.*\n",
    "- [1] https://www.allsides.com/news-source/cnn-media-bias\n",
    "- [2] https://mediabiasfactcheck.com/cnn/\n",
    "- [3] https://mediabiasfactcheck.com/npr/\n",
    "- [4] https://www.allsides.com/news-source/npr-media-bias\n",
    "- [5] https://www.allsides.com/news-source/breitbart\n",
    "- [6] https://mediabiasfactcheck.com/breitbart/\n",
    "- [7] https://www.adfontesmedia.com/static-mbc/"
   ]
  },
  {
   "cell_type": "markdown",
   "metadata": {},
   "source": [
    "# Setup"
   ]
  },
  {
   "cell_type": "code",
   "execution_count": 1,
   "metadata": {},
   "outputs": [
    {
     "name": "stderr",
     "output_type": "stream",
     "text": [
      "[nltk_data] Downloading package vader_lexicon to\n",
      "[nltk_data]     /home/began/nltk_data...\n",
      "[nltk_data]   Package vader_lexicon is already up-to-date!\n"
     ]
    },
    {
     "data": {
      "text/plain": [
       "True"
      ]
     },
     "execution_count": 1,
     "metadata": {},
     "output_type": "execute_result"
    }
   ],
   "source": [
    "import pandas as pd\n",
    "import matplotlib.pyplot as plt\n",
    "import seaborn as sns\n",
    "%matplotlib inline\n",
    "import nltk\n",
    "from nltk import word_tokenize, sent_tokenize, tokenize\n",
    "from nltk.corpus import stopwords\n",
    "from nltk.stem import LancasterStemmer, WordNetLemmatizer, PorterStemmer\n",
    "from wordcloud import WordCloud, STOPWORDS\n",
    "from nltk.probability import FreqDist\n",
    "import string\n",
    "from nltk.sentiment.vader import SentimentIntensityAnalyzer \n",
    "nltk.download('vader_lexicon') "
   ]
  },
  {
   "cell_type": "markdown",
   "metadata": {},
   "source": [
    "# Data Cleaning"
   ]
  },
  {
   "cell_type": "markdown",
   "metadata": {},
   "source": [
    "The data is fairly clean to begin with, there are few missing values and the format is consistent throughout. The issue we have is there is a lot of data that we do not need to use. So, to get our data into a useable format, we will only select the three publications we plan to use, Breitbart, CNN, and NPR, and keep the dates and headlines from only 1,000 of each. We decided on 1,000 of each because the dataset had a higher number of Breitbart articles than any other publication, and we wanted there to be a standard number of headlines for each source. Given that we plan on doing the additional step of sentiment analysis after this data checkpoint, most of our EDA will come next week, and so data distribution checking or data transformations will not be necessary at this time. It is also possible that as this project proceeds, we may decide to add in more points of data analysis, such as increasing how many articles we analyze from each news source, or even adding in different news sources to give us data for a 'center-right' and 'center-left source', if we feel that would improve the strength of our project."
   ]
  },
  {
   "cell_type": "code",
   "execution_count": 2,
   "metadata": {
    "scrolled": true
   },
   "outputs": [
    {
     "name": "stderr",
     "output_type": "stream",
     "text": [
      "Skipping line 17535: field larger than field limit (131072)\n",
      "Skipping line 1429: field larger than field limit (131072)\n",
      "Skipping line 1469: field larger than field limit (131072)\n",
      "Skipping line 1516: field larger than field limit (131072)\n",
      "Skipping line 1740: field larger than field limit (131072)\n",
      "Skipping line 3774: field larger than field limit (131072)\n",
      "Skipping line 3779: field larger than field limit (131072)\n",
      "Skipping line 3791: field larger than field limit (131072)\n",
      "Skipping line 33121: field larger than field limit (131072)\n",
      "Skipping line 34127: field larger than field limit (131072)\n"
     ]
    },
    {
     "name": "stdout",
     "output_type": "stream",
     "text": [
      "(49999, 10)\n",
      "(49992, 10)\n",
      "(42569, 10)\n"
     ]
    }
   ],
   "source": [
    "#this imports the relevant data sets from three separate files, and sanitizes the input.\n",
    "\n",
    "news1 = pd.read_csv('csv_files/articles1.csv', engine = 'python', error_bad_lines=False)\n",
    "news2 = pd.read_csv('csv_files/articles2.csv', engine = 'python', error_bad_lines=False)\n",
    "news3 = pd.read_csv('csv_files/articles3.csv', engine = 'python', error_bad_lines=False)\n",
    "\n",
    "\n",
    "print(news1.shape)\n",
    "print(news2.shape)\n",
    "print(news3.shape)"
   ]
  },
  {
   "cell_type": "code",
   "execution_count": 3,
   "metadata": {},
   "outputs": [
    {
     "data": {
      "text/plain": [
       "(142560, 10)"
      ]
     },
     "execution_count": 3,
     "metadata": {},
     "output_type": "execute_result"
    }
   ],
   "source": [
    "# combine three dataframes into one\n",
    "news = news1.append(news2).append(news3)\n",
    "news.shape"
   ]
  },
  {
   "cell_type": "code",
   "execution_count": 4,
   "metadata": {},
   "outputs": [
    {
     "data": {
      "text/plain": [
       "Breitbart              23780\n",
       "New York Post          17493\n",
       "NPR                    11992\n",
       "CNN                    11488\n",
       "Washington Post        11112\n",
       "Reuters                10710\n",
       "Guardian                8681\n",
       "New York Times          7803\n",
       "Atlantic                7172\n",
       "Business Insider        6757\n",
       "National Review         6203\n",
       "Talking Points Memo     5214\n",
       "Vox                     4947\n",
       "Buzzfeed News           4854\n",
       "Fox News                4354\n",
       "Name: publication, dtype: int64"
      ]
     },
     "execution_count": 4,
     "metadata": {},
     "output_type": "execute_result"
    }
   ],
   "source": [
    "# check number of articles for each source\n",
    "news['publication'].value_counts()"
   ]
  },
  {
   "cell_type": "code",
   "execution_count": 5,
   "metadata": {},
   "outputs": [
    {
     "data": {
      "text/html": [
       "<div>\n",
       "<style scoped>\n",
       "    .dataframe tbody tr th:only-of-type {\n",
       "        vertical-align: middle;\n",
       "    }\n",
       "\n",
       "    .dataframe tbody tr th {\n",
       "        vertical-align: top;\n",
       "    }\n",
       "\n",
       "    .dataframe thead th {\n",
       "        text-align: right;\n",
       "    }\n",
       "</style>\n",
       "<table border=\"1\" class=\"dataframe\">\n",
       "  <thead>\n",
       "    <tr style=\"text-align: right;\">\n",
       "      <th></th>\n",
       "      <th>title</th>\n",
       "      <th>publication</th>\n",
       "      <th>date</th>\n",
       "    </tr>\n",
       "  </thead>\n",
       "  <tbody>\n",
       "    <tr>\n",
       "      <th>0</th>\n",
       "      <td>House Republicans Fret About Winning Their Hea...</td>\n",
       "      <td>New York Times</td>\n",
       "      <td>2016-12-31</td>\n",
       "    </tr>\n",
       "    <tr>\n",
       "      <th>1</th>\n",
       "      <td>Rift Between Officers and Residents as Killing...</td>\n",
       "      <td>New York Times</td>\n",
       "      <td>2017-06-19</td>\n",
       "    </tr>\n",
       "    <tr>\n",
       "      <th>2</th>\n",
       "      <td>Tyrus Wong, ‘Bambi’ Artist Thwarted by Racial ...</td>\n",
       "      <td>New York Times</td>\n",
       "      <td>2017-01-06</td>\n",
       "    </tr>\n",
       "    <tr>\n",
       "      <th>3</th>\n",
       "      <td>Among Deaths in 2016, a Heavy Toll in Pop Musi...</td>\n",
       "      <td>New York Times</td>\n",
       "      <td>2017-04-10</td>\n",
       "    </tr>\n",
       "    <tr>\n",
       "      <th>4</th>\n",
       "      <td>Kim Jong-un Says North Korea Is Preparing to T...</td>\n",
       "      <td>New York Times</td>\n",
       "      <td>2017-01-02</td>\n",
       "    </tr>\n",
       "  </tbody>\n",
       "</table>\n",
       "</div>"
      ],
      "text/plain": [
       "                                               title     publication  \\\n",
       "0  House Republicans Fret About Winning Their Hea...  New York Times   \n",
       "1  Rift Between Officers and Residents as Killing...  New York Times   \n",
       "2  Tyrus Wong, ‘Bambi’ Artist Thwarted by Racial ...  New York Times   \n",
       "3  Among Deaths in 2016, a Heavy Toll in Pop Musi...  New York Times   \n",
       "4  Kim Jong-un Says North Korea Is Preparing to T...  New York Times   \n",
       "\n",
       "         date  \n",
       "0  2016-12-31  \n",
       "1  2017-06-19  \n",
       "2  2017-01-06  \n",
       "3  2017-04-10  \n",
       "4  2017-01-02  "
      ]
     },
     "execution_count": 5,
     "metadata": {},
     "output_type": "execute_result"
    }
   ],
   "source": [
    "#But we only care about the article title, where it comes from, and when it was published(for context of the news)\n",
    "\n",
    "news_cleaned = news[['title', 'publication', 'date']]\n",
    "news_cleaned.head()"
   ]
  },
  {
   "cell_type": "code",
   "execution_count": 6,
   "metadata": {},
   "outputs": [
    {
     "data": {
      "text/plain": [
       "False"
      ]
     },
     "execution_count": 6,
     "metadata": {},
     "output_type": "execute_result"
    }
   ],
   "source": [
    "#Getting rid of all the null columns\n",
    "news_cleaned = news_cleaned.dropna()\n",
    "news_cleaned.isnull().values.any()"
   ]
  },
  {
   "cell_type": "code",
   "execution_count": 7,
   "metadata": {},
   "outputs": [
    {
     "data": {
      "text/plain": [
       "Breitbart    23780\n",
       "NPR          11992\n",
       "CNN          11488\n",
       "Name: publication, dtype: int64"
      ]
     },
     "execution_count": 7,
     "metadata": {},
     "output_type": "execute_result"
    }
   ],
   "source": [
    "# keep news only from 'Breitbart', 'CNN', and 'NPR'\n",
    "sources = ['Breitbart', 'CNN', 'NPR']\n",
    "news = news_cleaned[news_cleaned['publication'].isin(sources)]\n",
    "\n",
    "news['publication'].value_counts()"
   ]
  },
  {
   "cell_type": "markdown",
   "metadata": {},
   "source": [
    "### After testing a fair amount, we found that the mean values stabilized at around 2500 samples. "
   ]
  },
  {
   "cell_type": "code",
   "execution_count": 8,
   "metadata": {},
   "outputs": [
    {
     "data": {
      "text/plain": [
       "NPR          2500\n",
       "Breitbart    2500\n",
       "CNN          2500\n",
       "Name: publication, dtype: int64"
      ]
     },
     "execution_count": 8,
     "metadata": {},
     "output_type": "execute_result"
    }
   ],
   "source": [
    "# pick 2500 random news for each source\n",
    "news = news.groupby(\"publication\").sample(n=2500)\n",
    "\n",
    "news['publication'].value_counts()"
   ]
  },
  {
   "cell_type": "code",
   "execution_count": 9,
   "metadata": {},
   "outputs": [
    {
     "data": {
      "text/html": [
       "<div>\n",
       "<style scoped>\n",
       "    .dataframe tbody tr th:only-of-type {\n",
       "        vertical-align: middle;\n",
       "    }\n",
       "\n",
       "    .dataframe tbody tr th {\n",
       "        vertical-align: top;\n",
       "    }\n",
       "\n",
       "    .dataframe thead th {\n",
       "        text-align: right;\n",
       "    }\n",
       "</style>\n",
       "<table border=\"1\" class=\"dataframe\">\n",
       "  <thead>\n",
       "    <tr style=\"text-align: right;\">\n",
       "      <th></th>\n",
       "      <th>title</th>\n",
       "      <th>publication</th>\n",
       "      <th>date</th>\n",
       "    </tr>\n",
       "  </thead>\n",
       "  <tbody>\n",
       "    <tr>\n",
       "      <th>25153</th>\n",
       "      <td>On Rape, Clinton Campaign Deletes ‘You Have Th...</td>\n",
       "      <td>Breitbart</td>\n",
       "      <td>2016-08-15</td>\n",
       "    </tr>\n",
       "    <tr>\n",
       "      <th>25276</th>\n",
       "      <td>Colorado Senate Ad Compares Illegal Immigratio...</td>\n",
       "      <td>Breitbart</td>\n",
       "      <td>2016-01-14</td>\n",
       "    </tr>\n",
       "    <tr>\n",
       "      <th>31215</th>\n",
       "      <td>Top Hillary Surrogate John Podesta Condemns Vi...</td>\n",
       "      <td>Breitbart</td>\n",
       "      <td>2016-06-03</td>\n",
       "    </tr>\n",
       "    <tr>\n",
       "      <th>12076</th>\n",
       "      <td>Populist Outsider Geert Wilders in Combative M...</td>\n",
       "      <td>Breitbart</td>\n",
       "      <td>2017-03-14</td>\n",
       "    </tr>\n",
       "    <tr>\n",
       "      <th>25542</th>\n",
       "      <td>Adviser to Pro-Hillary Super PAC: Campaign Nee...</td>\n",
       "      <td>Breitbart</td>\n",
       "      <td>2016-08-09</td>\n",
       "    </tr>\n",
       "  </tbody>\n",
       "</table>\n",
       "</div>"
      ],
      "text/plain": [
       "                                                   title publication  \\\n",
       "25153  On Rape, Clinton Campaign Deletes ‘You Have Th...   Breitbart   \n",
       "25276  Colorado Senate Ad Compares Illegal Immigratio...   Breitbart   \n",
       "31215  Top Hillary Surrogate John Podesta Condemns Vi...   Breitbart   \n",
       "12076  Populist Outsider Geert Wilders in Combative M...   Breitbart   \n",
       "25542  Adviser to Pro-Hillary Super PAC: Campaign Nee...   Breitbart   \n",
       "\n",
       "             date  \n",
       "25153  2016-08-15  \n",
       "25276  2016-01-14  \n",
       "31215  2016-06-03  \n",
       "12076  2017-03-14  \n",
       "25542  2016-08-09  "
      ]
     },
     "execution_count": 9,
     "metadata": {},
     "output_type": "execute_result"
    }
   ],
   "source": [
    "news.head()"
   ]
  },
  {
   "cell_type": "markdown",
   "metadata": {},
   "source": [
    "# Data Analysis & Results (EDA)"
   ]
  },
  {
   "cell_type": "markdown",
   "metadata": {},
   "source": [
    "Carry out EDA on your dataset(s); Describe in this section"
   ]
  },
  {
   "cell_type": "code",
   "execution_count": 10,
   "metadata": {
    "scrolled": true
   },
   "outputs": [],
   "source": [
    "news['title'] = news['title'].astype(str)\n",
    "\n",
    "## Lowercase\n",
    "news['title'] = news['title'].apply(lambda x: \" \".join(x.lower() for x in x.split()))\n",
    "\n",
    "#remove punct\n",
    "def remove_punct(string):\n",
    "    punctuation= '''‘’!()-[]{};:'\", <>./?@#$%^&*_~'''\n",
    "    for x in punctuation:\n",
    "        string = string.replace(x, \" \")\n",
    "    return string\n",
    "\n",
    "news['title'] = news['title'].apply(remove_punct)\n",
    "\n",
    "#tokenize \n",
    "news['title'] = news['title'].apply(word_tokenize)\n",
    "\n",
    "## stop word removal\n",
    "stop_words = set(stopwords.words('english'))\n",
    "\n",
    "\n",
    "#We see in the data that Breitbart includes the name of their publication at the end of each of their article titles, as such,\n",
    "#we decided to add 'breitbart' as a stop word so that it would be removed from the titles, and not dilute the sentiment of the rest\n",
    "#of the article titles.\n",
    "stop_words.add('breitbart')\n",
    "news['title'] = news['title'].apply(lambda x: [item for item in x if item not in stop_words])\n",
    "\n",
    "\n",
    "##stemming\n",
    "stemmer = PorterStemmer()\n",
    "news['title'] = news['title'].apply(lambda x: [stemmer.stem(y) for y in x])\n",
    "\n",
    "news['tokenized_list'] = news['title']\n",
    "\n",
    "# putting the tokenized, stemmed, and cleaned titles back into lists\n",
    "def joiner(title_list): \n",
    "    return ' '.join(title_list)\n",
    "news['title'] = news['title'].apply(joiner)\n",
    "\n",
    "\n",
    "#Analysing the sentiment of each title and creating a new Dataframe of the compound of the sentiments\n",
    "analyser = SentimentIntensityAnalyzer()\n",
    "title_sentences = list(news['title'])\n",
    "def senti(input_list):\n",
    "    output = pd.DataFrame()\n",
    "    for sentence in title_sentences:\n",
    "        ss = analyser.polarity_scores(sentence)\n",
    "        ss['cleaned_titles'] = sentence\n",
    "        output = output.append(ss, ignore_index=True)\n",
    "    return output\n",
    "\n",
    "\n",
    "news_sentiments = senti(title_sentences)\n"
   ]
  },
  {
   "cell_type": "code",
   "execution_count": 11,
   "metadata": {},
   "outputs": [
    {
     "data": {
      "text/html": [
       "<div>\n",
       "<style scoped>\n",
       "    .dataframe tbody tr th:only-of-type {\n",
       "        vertical-align: middle;\n",
       "    }\n",
       "\n",
       "    .dataframe tbody tr th {\n",
       "        vertical-align: top;\n",
       "    }\n",
       "\n",
       "    .dataframe thead th {\n",
       "        text-align: right;\n",
       "    }\n",
       "</style>\n",
       "<table border=\"1\" class=\"dataframe\">\n",
       "  <thead>\n",
       "    <tr style=\"text-align: right;\">\n",
       "      <th></th>\n",
       "      <th>index</th>\n",
       "      <th>title</th>\n",
       "      <th>publication</th>\n",
       "      <th>date</th>\n",
       "      <th>tokenized_list</th>\n",
       "      <th>title_sentiment</th>\n",
       "    </tr>\n",
       "  </thead>\n",
       "  <tbody>\n",
       "    <tr>\n",
       "      <th>0</th>\n",
       "      <td>25153</td>\n",
       "      <td>rape clinton campaign delet right believ websit</td>\n",
       "      <td>Breitbart</td>\n",
       "      <td>2016-08-15</td>\n",
       "      <td>[rape, clinton, campaign, delet, right, believ...</td>\n",
       "      <td>-0.6908</td>\n",
       "    </tr>\n",
       "    <tr>\n",
       "      <th>1</th>\n",
       "      <td>25276</td>\n",
       "      <td>colorado senat ad compar illeg immigr explod t...</td>\n",
       "      <td>Breitbart</td>\n",
       "      <td>2016-01-14</td>\n",
       "      <td>[colorado, senat, ad, compar, illeg, immigr, e...</td>\n",
       "      <td>0.0000</td>\n",
       "    </tr>\n",
       "    <tr>\n",
       "      <th>2</th>\n",
       "      <td>31215</td>\n",
       "      <td>top hillari surrog john podesta condemn violen...</td>\n",
       "      <td>Breitbart</td>\n",
       "      <td>2016-06-03</td>\n",
       "      <td>[top, hillari, surrog, john, podesta, condemn,...</td>\n",
       "      <td>0.2263</td>\n",
       "    </tr>\n",
       "    <tr>\n",
       "      <th>3</th>\n",
       "      <td>12076</td>\n",
       "      <td>populist outsid geert wilder comb mood netherl...</td>\n",
       "      <td>Breitbart</td>\n",
       "      <td>2017-03-14</td>\n",
       "      <td>[populist, outsid, geert, wilder, comb, mood, ...</td>\n",
       "      <td>0.0000</td>\n",
       "    </tr>\n",
       "    <tr>\n",
       "      <th>4</th>\n",
       "      <td>25542</td>\n",
       "      <td>advis pro hillari super pac campaign need disa...</td>\n",
       "      <td>Breitbart</td>\n",
       "      <td>2016-08-09</td>\n",
       "      <td>[advis, pro, hillari, super, pac, campaign, ne...</td>\n",
       "      <td>0.3612</td>\n",
       "    </tr>\n",
       "    <tr>\n",
       "      <th>...</th>\n",
       "      <td>...</td>\n",
       "      <td>...</td>\n",
       "      <td>...</td>\n",
       "      <td>...</td>\n",
       "      <td>...</td>\n",
       "      <td>...</td>\n",
       "    </tr>\n",
       "    <tr>\n",
       "      <th>7495</th>\n",
       "      <td>6706</td>\n",
       "      <td>fyre organ use influenc market festiv exist</td>\n",
       "      <td>NPR</td>\n",
       "      <td>2017-05-02</td>\n",
       "      <td>[fyre, organ, use, influenc, market, festiv, e...</td>\n",
       "      <td>0.0000</td>\n",
       "    </tr>\n",
       "    <tr>\n",
       "      <th>7496</th>\n",
       "      <td>12873</td>\n",
       "      <td>outsid zimbabw anti govern pastor take stock m...</td>\n",
       "      <td>NPR</td>\n",
       "      <td>2016-08-21</td>\n",
       "      <td>[outsid, zimbabw, anti, govern, pastor, take, ...</td>\n",
       "      <td>-0.3182</td>\n",
       "    </tr>\n",
       "    <tr>\n",
       "      <th>7497</th>\n",
       "      <td>13234</td>\n",
       "      <td>evolut bred realiti us</td>\n",
       "      <td>NPR</td>\n",
       "      <td>2016-09-06</td>\n",
       "      <td>[evolut, bred, realiti, us]</td>\n",
       "      <td>0.0000</td>\n",
       "    </tr>\n",
       "    <tr>\n",
       "      <th>7498</th>\n",
       "      <td>10530</td>\n",
       "      <td>dee gordon nation leagu reign bat champion get...</td>\n",
       "      <td>NPR</td>\n",
       "      <td>2016-04-29</td>\n",
       "      <td>[dee, gordon, nation, leagu, reign, bat, champ...</td>\n",
       "      <td>0.5994</td>\n",
       "    </tr>\n",
       "    <tr>\n",
       "      <th>7499</th>\n",
       "      <td>6380</td>\n",
       "      <td>amid aid uncertainti u counterterror cooper co...</td>\n",
       "      <td>NPR</td>\n",
       "      <td>2017-04-17</td>\n",
       "      <td>[amid, aid, uncertainti, u, counterterror, coo...</td>\n",
       "      <td>0.0000</td>\n",
       "    </tr>\n",
       "  </tbody>\n",
       "</table>\n",
       "<p>7500 rows × 6 columns</p>\n",
       "</div>"
      ],
      "text/plain": [
       "      index                                              title publication  \\\n",
       "0     25153    rape clinton campaign delet right believ websit   Breitbart   \n",
       "1     25276  colorado senat ad compar illeg immigr explod t...   Breitbart   \n",
       "2     31215  top hillari surrog john podesta condemn violen...   Breitbart   \n",
       "3     12076  populist outsid geert wilder comb mood netherl...   Breitbart   \n",
       "4     25542  advis pro hillari super pac campaign need disa...   Breitbart   \n",
       "...     ...                                                ...         ...   \n",
       "7495   6706        fyre organ use influenc market festiv exist         NPR   \n",
       "7496  12873  outsid zimbabw anti govern pastor take stock m...         NPR   \n",
       "7497  13234                             evolut bred realiti us         NPR   \n",
       "7498  10530  dee gordon nation leagu reign bat champion get...         NPR   \n",
       "7499   6380  amid aid uncertainti u counterterror cooper co...         NPR   \n",
       "\n",
       "            date                                     tokenized_list  \\\n",
       "0     2016-08-15  [rape, clinton, campaign, delet, right, believ...   \n",
       "1     2016-01-14  [colorado, senat, ad, compar, illeg, immigr, e...   \n",
       "2     2016-06-03  [top, hillari, surrog, john, podesta, condemn,...   \n",
       "3     2017-03-14  [populist, outsid, geert, wilder, comb, mood, ...   \n",
       "4     2016-08-09  [advis, pro, hillari, super, pac, campaign, ne...   \n",
       "...          ...                                                ...   \n",
       "7495  2017-05-02  [fyre, organ, use, influenc, market, festiv, e...   \n",
       "7496  2016-08-21  [outsid, zimbabw, anti, govern, pastor, take, ...   \n",
       "7497  2016-09-06                        [evolut, bred, realiti, us]   \n",
       "7498  2016-04-29  [dee, gordon, nation, leagu, reign, bat, champ...   \n",
       "7499  2017-04-17  [amid, aid, uncertainti, u, counterterror, coo...   \n",
       "\n",
       "      title_sentiment  \n",
       "0             -0.6908  \n",
       "1              0.0000  \n",
       "2              0.2263  \n",
       "3              0.0000  \n",
       "4              0.3612  \n",
       "...               ...  \n",
       "7495           0.0000  \n",
       "7496          -0.3182  \n",
       "7497           0.0000  \n",
       "7498           0.5994  \n",
       "7499           0.0000  \n",
       "\n",
       "[7500 rows x 6 columns]"
      ]
     },
     "execution_count": 11,
     "metadata": {},
     "output_type": "execute_result"
    }
   ],
   "source": [
    "#creating a combined dataframe of the titles, their publications, and the compound sentiment of their titles. \n",
    "news_sentiments\n",
    "title_sentiments = pd.DataFrame(news_sentiments['compound']) \n",
    "\n",
    "title_sentiments\n",
    "news = news.reset_index()\n",
    "news['title_sentiment']  = news_sentiments['compound']\n",
    "news"
   ]
  },
  {
   "cell_type": "markdown",
   "metadata": {},
   "source": [
    "### Let us first start with a general exploration of the average sentiments of each news source. Bearing in mind we are randomly choosing 1,000 articles each time this notebook is run, and therefore the averages will vary. "
   ]
  },
  {
   "cell_type": "code",
   "execution_count": 12,
   "metadata": {},
   "outputs": [
    {
     "name": "stdout",
     "output_type": "stream",
     "text": [
      "Sentiment Averages for all publications:\n"
     ]
    },
    {
     "data": {
      "text/plain": [
       "count    7500.000000\n",
       "mean       -0.090730\n",
       "std         0.355774\n",
       "min        -0.962800\n",
       "25%        -0.340000\n",
       "50%         0.000000\n",
       "75%         0.000000\n",
       "max         0.906200\n",
       "Name: title_sentiment, dtype: float64"
      ]
     },
     "execution_count": 12,
     "metadata": {},
     "output_type": "execute_result"
    }
   ],
   "source": [
    "print(\"Sentiment Averages for all publications:\")\n",
    "news['title_sentiment'].describe()"
   ]
  },
  {
   "cell_type": "code",
   "execution_count": 13,
   "metadata": {},
   "outputs": [
    {
     "name": "stdout",
     "output_type": "stream",
     "text": [
      "BREITBART, CNN, NPR sentiment averages, respectively:\n"
     ]
    },
    {
     "data": {
      "text/plain": [
       "(count    2500.000000\n",
       " mean       -0.126900\n",
       " std         0.372151\n",
       " min        -0.956500\n",
       " 25%        -0.401900\n",
       " 50%         0.000000\n",
       " 75%         0.000000\n",
       " max         0.906200\n",
       " Name: title_sentiment, dtype: float64,\n",
       " count    2500.000000\n",
       " mean       -0.109565\n",
       " std         0.340915\n",
       " min        -0.962800\n",
       " 25%        -0.340000\n",
       " 50%         0.000000\n",
       " 75%         0.000000\n",
       " max         0.904200\n",
       " Name: title_sentiment, dtype: float64,\n",
       " count    2500.000000\n",
       " mean       -0.035726\n",
       " std         0.347011\n",
       " min        -0.946800\n",
       " 25%        -0.250000\n",
       " 50%         0.000000\n",
       " 75%         0.000000\n",
       " max         0.877900\n",
       " Name: title_sentiment, dtype: float64)"
      ]
     },
     "execution_count": 13,
     "metadata": {},
     "output_type": "execute_result"
    }
   ],
   "source": [
    "print('BREITBART, CNN, NPR sentiment averages, respectively:')\n",
    "news[news['publication'] == 'Breitbart']['title_sentiment'].describe(), news[news['publication'] == 'CNN']['title_sentiment'].describe(), news[news['publication'] == 'NPR']['title_sentiment'].describe()"
   ]
  },
  {
   "cell_type": "markdown",
   "metadata": {},
   "source": [
    "### The average total mean of the sentiment distribution is negative, which is to be expected. And everytime we run this notebook, of the news sources, CNN and Breitbart are always more negative, while NPR is the most neutral. But the data could benefit from visual representation. \n",
    "\n",
    "### Here begins the visual EDA, with histograms of combined sentiment of all the news sources, then from each specific publication. "
   ]
  },
  {
   "cell_type": "code",
   "execution_count": 14,
   "metadata": {},
   "outputs": [
    {
     "data": {
      "image/png": "[encoded data removed]",
      "text/plain": [
       "<Figure size 432x288 with 1 Axes>"
      ]
     },
     "metadata": {
      "needs_background": "light"
     },
     "output_type": "display_data"
    }
   ],
   "source": [
    "total_plot = sns.histplot(news['title_sentiment'], bins=50, kde=True, color = 'pink');\n",
    "\n",
    "total_plot.set(ylim=(0,5000));\n",
    "total_plot.set(xlim=(-1,1));"
   ]
  },
  {
   "cell_type": "code",
   "execution_count": 15,
   "metadata": {},
   "outputs": [
    {
     "data": {
      "image/png": "[encoded data removed]",
      "text/plain": [
       "<Figure size 432x288 with 1 Axes>"
      ]
     },
     "metadata": {
      "needs_background": "light"
     },
     "output_type": "display_data"
    }
   ],
   "source": [
    "#creating a histogram plot of sentiment distribution based on the composite sentiment \n",
    "breitbart = news[news['publication'] == 'Breitbart']\n",
    "# breitbart.reset_index();\n",
    "breitbart_plot = sns.histplot(breitbart['title_sentiment'], bins=50, kde=True, color = 'red')\n",
    "\n",
    "breitbart_plot.set_title(\"Breitbart Sentiment Distribution\")\n",
    "breitbart_plot.set(ylim=(0,1500))\n",
    "breitbart_plot.set(xlim=(-1,1));"
   ]
  },
  {
   "cell_type": "code",
   "execution_count": 16,
   "metadata": {},
   "outputs": [
    {
     "data": {
      "image/png": "[encoded data removed]",
      "text/plain": [
       "<Figure size 432x288 with 1 Axes>"
      ]
     },
     "metadata": {
      "needs_background": "light"
     },
     "output_type": "display_data"
    }
   ],
   "source": [
    "cnn = news[news['publication'] == 'CNN']\n",
    "# cnn.reset_index();\n",
    "cnn_plot = sns.histplot(cnn['title_sentiment'], bins=50, kde=True, color = 'blue');\n",
    "\n",
    "cnn_plot.set_title(\"CNN Sentiment Distribution\");\n",
    "cnn_plot.set(ylim=(0,1500));\n",
    "cnn_plot.set(xlim=(-1,1));"
   ]
  },
  {
   "cell_type": "code",
   "execution_count": 17,
   "metadata": {},
   "outputs": [
    {
     "data": {
      "image/png": "[encoded data removed]",
      "text/plain": [
       "<Figure size 432x288 with 1 Axes>"
      ]
     },
     "metadata": {
      "needs_background": "light"
     },
     "output_type": "display_data"
    }
   ],
   "source": [
    "npr = news[news['publication'] == 'NPR']\n",
    "npr_plot = sns.histplot(npr['title_sentiment'], bins=50, kde=True, color = 'green');\n",
    "\n",
    "npr_plot.set_title(\"NPR Sentiment Distribution\");\n",
    "npr_plot.set(ylim=(0,1500));\n",
    "npr_plot.set(xlim=(-1,1));"
   ]
  },
  {
   "cell_type": "markdown",
   "metadata": {},
   "source": [
    "### For all of these graphs, we can see an obvious similarity, the large column of zero sentiments in the middle. Is this is indicative of the writers of these publications clearly trying to craft the most neutral titles as possible? Or is it that many headlines have complete neutral sentiment due to errors in the stemmer and uses of names? \n",
    "\n",
    "### To view the data with a more critical lens, we decided to remove all of the zero sentiments from each of the titles across the board. It is important to note that both NPR and CNN have nearly three hundred more 0 sentiment titles than Breitbart, but we feel that the data can be analyzed adequately without the large column in the middle, and will be able to see the general skew of articles that have more polar sentiment."
   ]
  },
  {
   "cell_type": "code",
   "execution_count": 18,
   "metadata": {
    "scrolled": true
   },
   "outputs": [
    {
     "data": {
      "text/html": [
       "<div>\n",
       "<style scoped>\n",
       "    .dataframe tbody tr th:only-of-type {\n",
       "        vertical-align: middle;\n",
       "    }\n",
       "\n",
       "    .dataframe tbody tr th {\n",
       "        vertical-align: top;\n",
       "    }\n",
       "\n",
       "    .dataframe thead th {\n",
       "        text-align: right;\n",
       "    }\n",
       "</style>\n",
       "<table border=\"1\" class=\"dataframe\">\n",
       "  <thead>\n",
       "    <tr style=\"text-align: right;\">\n",
       "      <th></th>\n",
       "      <th>index</th>\n",
       "      <th>title</th>\n",
       "      <th>publication</th>\n",
       "      <th>date</th>\n",
       "      <th>tokenized_list</th>\n",
       "      <th>title_sentiment</th>\n",
       "    </tr>\n",
       "  </thead>\n",
       "  <tbody>\n",
       "    <tr>\n",
       "      <th>0</th>\n",
       "      <td>25153</td>\n",
       "      <td>rape clinton campaign delet right believ websit</td>\n",
       "      <td>Breitbart</td>\n",
       "      <td>2016-08-15</td>\n",
       "      <td>[rape, clinton, campaign, delet, right, believ...</td>\n",
       "      <td>-0.6908</td>\n",
       "    </tr>\n",
       "    <tr>\n",
       "      <th>2</th>\n",
       "      <td>31215</td>\n",
       "      <td>top hillari surrog john podesta condemn violen...</td>\n",
       "      <td>Breitbart</td>\n",
       "      <td>2016-06-03</td>\n",
       "      <td>[top, hillari, surrog, john, podesta, condemn,...</td>\n",
       "      <td>0.2263</td>\n",
       "    </tr>\n",
       "    <tr>\n",
       "      <th>4</th>\n",
       "      <td>25542</td>\n",
       "      <td>advis pro hillari super pac campaign need disa...</td>\n",
       "      <td>Breitbart</td>\n",
       "      <td>2016-08-09</td>\n",
       "      <td>[advis, pro, hillari, super, pac, campaign, ne...</td>\n",
       "      <td>0.3612</td>\n",
       "    </tr>\n",
       "    <tr>\n",
       "      <th>6</th>\n",
       "      <td>23232</td>\n",
       "      <td>gutfeld trump save whine act like obama</td>\n",
       "      <td>Breitbart</td>\n",
       "      <td>2016-02-03</td>\n",
       "      <td>[gutfeld, trump, save, whine, act, like, obama]</td>\n",
       "      <td>0.4939</td>\n",
       "    </tr>\n",
       "    <tr>\n",
       "      <th>7</th>\n",
       "      <td>9387</td>\n",
       "      <td>california ban travel state less friendli lgbt...</td>\n",
       "      <td>Breitbart</td>\n",
       "      <td>2017-03-15</td>\n",
       "      <td>[california, ban, travel, state, less, friendl...</td>\n",
       "      <td>-0.5267</td>\n",
       "    </tr>\n",
       "  </tbody>\n",
       "</table>\n",
       "</div>"
      ],
      "text/plain": [
       "   index                                              title publication  \\\n",
       "0  25153    rape clinton campaign delet right believ websit   Breitbart   \n",
       "2  31215  top hillari surrog john podesta condemn violen...   Breitbart   \n",
       "4  25542  advis pro hillari super pac campaign need disa...   Breitbart   \n",
       "6  23232            gutfeld trump save whine act like obama   Breitbart   \n",
       "7   9387  california ban travel state less friendli lgbt...   Breitbart   \n",
       "\n",
       "         date                                     tokenized_list  \\\n",
       "0  2016-08-15  [rape, clinton, campaign, delet, right, believ...   \n",
       "2  2016-06-03  [top, hillari, surrog, john, podesta, condemn,...   \n",
       "4  2016-08-09  [advis, pro, hillari, super, pac, campaign, ne...   \n",
       "6  2016-02-03    [gutfeld, trump, save, whine, act, like, obama]   \n",
       "7  2017-03-15  [california, ban, travel, state, less, friendl...   \n",
       "\n",
       "   title_sentiment  \n",
       "0          -0.6908  \n",
       "2           0.2263  \n",
       "4           0.3612  \n",
       "6           0.4939  \n",
       "7          -0.5267  "
      ]
     },
     "execution_count": 18,
     "metadata": {},
     "output_type": "execute_result"
    }
   ],
   "source": [
    "#get rid of 0 values (outlier)\n",
    "news = news[news.title_sentiment != 0]\n",
    "news.head()\n",
    "##Pay attention to the words that are not stemmed properly!!"
   ]
  },
  {
   "cell_type": "markdown",
   "metadata": {},
   "source": [
    "### This will probably move the average sentiment to the left, but let's check anyway."
   ]
  },
  {
   "cell_type": "code",
   "execution_count": 19,
   "metadata": {},
   "outputs": [
    {
     "data": {
      "text/plain": [
       "count    4145.000000\n",
       "mean       -0.164168\n",
       "std         0.465824\n",
       "min        -0.962800\n",
       "25%        -0.557400\n",
       "50%        -0.318200\n",
       "75%         0.296000\n",
       "max         0.906200\n",
       "Name: title_sentiment, dtype: float64"
      ]
     },
     "execution_count": 19,
     "metadata": {},
     "output_type": "execute_result"
    }
   ],
   "source": [
    "news['title_sentiment'].describe()"
   ]
  },
  {
   "cell_type": "code",
   "execution_count": 20,
   "metadata": {},
   "outputs": [
    {
     "name": "stdout",
     "output_type": "stream",
     "text": [
      "BREITBART, CNN, NPR sentiment averages, respectively:\n"
     ]
    },
    {
     "data": {
      "text/plain": [
       "(count    1557.000000\n",
       " mean       -0.203757\n",
       " std         0.454709\n",
       " min        -0.956500\n",
       " 25%        -0.557400\n",
       " 50%        -0.340000\n",
       " 75%         0.202300\n",
       " max         0.906200\n",
       " Name: title_sentiment, dtype: float64,\n",
       " count    1265.000000\n",
       " mean       -0.216531\n",
       " std         0.454533\n",
       " min        -0.962800\n",
       " 25%        -0.599400\n",
       " 50%        -0.340000\n",
       " 75%         0.202300\n",
       " max         0.904200\n",
       " Name: title_sentiment, dtype: float64,\n",
       " count    1323.000000\n",
       " mean       -0.067509\n",
       " std         0.474846\n",
       " min        -0.946800\n",
       " 25%        -0.476700\n",
       " 50%        -0.177900\n",
       " 75%         0.401900\n",
       " max         0.877900\n",
       " Name: title_sentiment, dtype: float64)"
      ]
     },
     "execution_count": 20,
     "metadata": {},
     "output_type": "execute_result"
    }
   ],
   "source": [
    "breitbart = news[news['publication'] == 'Breitbart']\n",
    "cnn = news[news['publication'] == 'CNN']\n",
    "npr = news[news['publication'] == 'NPR']\n",
    "\n",
    "print('BREITBART, CNN, NPR sentiment averages, respectively:')\n",
    "breitbart['title_sentiment'].describe(), cnn['title_sentiment'].describe(), npr['title_sentiment'].describe()"
   ]
  },
  {
   "cell_type": "markdown",
   "metadata": {},
   "source": [
    "### By removing the 0column, we about doubled the average mean sentiment across the board: \n",
    "   ### -0.127 to -0.204 for Breitbart, \n",
    "   ### -0.110 to -0.216 for CNN, and \n",
    "   ### -0.036 to -0.068 for NPR. \n",
    "\n",
    "### Seeing how this was a uniform transformtion of the data, we feel comfortable analyzing the data without the 0 values moving forward. Let's take a look at the distributions now: "
   ]
  },
  {
   "cell_type": "code",
   "execution_count": 21,
   "metadata": {},
   "outputs": [
    {
     "data": {
      "image/png": "[encoded data removed]",
      "text/plain": [
       "<Figure size 432x288 with 1 Axes>"
      ]
     },
     "metadata": {
      "needs_background": "light"
     },
     "output_type": "display_data"
    }
   ],
   "source": [
    "total_plot = sns.histplot(news['title_sentiment'], bins=50, kde=True, color = 'pink');\n",
    "\n",
    "total_plot.set_title(\"Sentiment Distribution of all News Sources\");"
   ]
  },
  {
   "cell_type": "code",
   "execution_count": 22,
   "metadata": {},
   "outputs": [
    {
     "data": {
      "image/png": "[encoded data removed]",
      "text/plain": [
       "<Figure size 432x288 with 1 Axes>"
      ]
     },
     "metadata": {
      "needs_background": "light"
     },
     "output_type": "display_data"
    }
   ],
   "source": [
    "breitbart_plot = sns.histplot(breitbart['title_sentiment'], bins=50, kde=True, color = 'red')\n",
    "\n",
    "breitbart_plot.set_title(\"Breitbart Sentiment Distribution\");"
   ]
  },
  {
   "cell_type": "code",
   "execution_count": 23,
   "metadata": {},
   "outputs": [
    {
     "data": {
      "image/png": "[encoded data removed]",
      "text/plain": [
       "<Figure size 432x288 with 1 Axes>"
      ]
     },
     "metadata": {
      "needs_background": "light"
     },
     "output_type": "display_data"
    }
   ],
   "source": [
    "cnn_plot = sns.histplot(cnn['title_sentiment'], bins=50, kde=True, color = 'blue');\n",
    "\n",
    "cnn_plot.set_title(\"CNN Sentiment Distribution\");"
   ]
  },
  {
   "cell_type": "code",
   "execution_count": 24,
   "metadata": {},
   "outputs": [
    {
     "data": {
      "image/png": "[encoded data removed]",
      "text/plain": [
       "<Figure size 432x288 with 1 Axes>"
      ]
     },
     "metadata": {
      "needs_background": "light"
     },
     "output_type": "display_data"
    }
   ],
   "source": [
    "npr_plot = sns.histplot(npr['title_sentiment'], bins=50, kde=True, color = 'green');\n",
    "\n",
    "npr_plot.set_title(\"NPR Sentiment Distribution\");\n",
    "npr_plot.set(xlim=(-1,1));"
   ]
  },
  {
   "cell_type": "markdown",
   "metadata": {},
   "source": [
    "### By removing the column in the middle, we can see a clearer pattern emerge. All of the news sources have an obvious bimodal distribution. But Breitbart and CNN seem to have a skew to the right. \n",
    "### So we now combine the graphs to compare the general sentiment distribution of each source."
   ]
  },
  {
   "cell_type": "code",
   "execution_count": 25,
   "metadata": {},
   "outputs": [
    {
     "data": {
      "image/png": "[encoded data removed]",
      "text/plain": [
       "<Figure size 432x288 with 1 Axes>"
      ]
     },
     "metadata": {
      "needs_background": "light"
     },
     "output_type": "display_data"
    }
   ],
   "source": [
    "#To combine all the sentiment scores without the 0 sentiment data. \n",
    "breitbart = news[news['publication'] == 'Breitbart']\n",
    "cnn = news[news['publication'] == 'CNN']\n",
    "npr = news[news['publication'] == 'NPR']\n",
    "\n",
    "Breitbart = list(breitbart['title'].values)\n",
    "CNN = list(cnn['title'].values)\n",
    "NPR = list(npr['title'].values)\n",
    "\n",
    "\n",
    "# function that will output the dataframe that stores sentiment information\n",
    "def get_sentiments(input_list):\n",
    "    output = pd.DataFrame()\n",
    "    for sentence in input_list:\n",
    "        ss = analyser.polarity_scores(sentence)\n",
    "        ss['sentence'] = sentence\n",
    "        output = output.append(ss, ignore_index=True)\n",
    "    return output\n",
    "\n",
    "breitbart_sentiments = get_sentiments(Breitbart)\n",
    "breitbart_sentiments['compound'].plot.density(color = 'red', label = 'Breitbart')\n",
    "\n",
    "cnn_sentiments = get_sentiments(CNN)\n",
    "cnn_sentiments['compound'].plot.density(color = 'blue', label = 'CNN')\n",
    "\n",
    "npr_sentiments = get_sentiments(NPR)\n",
    "npr_sentiments['compound'].plot.density(color = 'green', label = 'NPR')\n",
    "\n",
    "\n",
    "plt.legend(loc = 'upper right')\n",
    "plt.xlabel('Compound Sentiment Scores')\n",
    "plt.xlim(-1,1);\n",
    "plt.title(\"Combined Sentiment Scores of all News Sources\");"
   ]
  },
  {
   "cell_type": "markdown",
   "metadata": {},
   "source": [
    "### By showing all the news sentiment scores on one graph, we can clearly see that CNN and Breitbart have a distinct rightward skew, meaning that the average sentiment of their article titles is more negative than positive. This is in contrast to NPR, which shows a more balanced bimodal distribution with no clear skew to the left or to the right. CNN also seems to be slightly more negative than Breitbart. \n"
   ]
  },
  {
   "cell_type": "markdown",
   "metadata": {},
   "source": [
    "### But we should still ask the question, which words show up the most for all the publications, for each individual publication? Will these words be more negative, positive, or neutral? To do this, we will take the stemmed and stop word removed titles and look at them for the top word frequencies."
   ]
  },
  {
   "cell_type": "code",
   "execution_count": 26,
   "metadata": {},
   "outputs": [
    {
     "data": {
      "image/png": "[encoded data removed]",
      "text/plain": [
       "<Figure size 432x288 with 1 Axes>"
      ]
     },
     "metadata": {
      "needs_background": "light"
     },
     "output_type": "display_data"
    }
   ],
   "source": [
    "combined_news_publications = news['tokenized_list'].apply(pd.Series).stack()\n",
    "# calculation word frequency\n",
    "fdist_most = FreqDist(combined_news_publications)\n",
    "\n",
    "# Frequency Distribution Plot - top 10 most common words\n",
    "fdist_most.plot(10, cumulative=False, color = 'pink', title = 'Combined Sentiment Scores of all News Sources');"
   ]
  },
  {
   "cell_type": "code",
   "execution_count": 27,
   "metadata": {},
   "outputs": [],
   "source": [
    "totalNPR = news['tokenized_list'][(news['publication'] == 'NPR')].apply(pd.Series).stack()\n",
    "totalCNN = news['tokenized_list'][(news['publication'] == 'CNN')].apply(pd.Series).stack()\n",
    "totalBreitbart = news['tokenized_list'][(news['publication'] == 'Breitbart')].apply(pd.Series).stack()"
   ]
  },
  {
   "cell_type": "code",
   "execution_count": 28,
   "metadata": {},
   "outputs": [
    {
     "data": {
      "image/png": "[encoded data removed]",
      "text/plain": [
       "<Figure size 432x288 with 1 Axes>"
      ]
     },
     "metadata": {
      "needs_background": "light"
     },
     "output_type": "display_data"
    }
   ],
   "source": [
    "fdist_most = FreqDist(totalBreitbart) \n",
    "fdist_most.plot(10, cumulative=False, color = 'red', title = 'Top 10 Most Frequent Breitbart Title Words');"
   ]
  },
  {
   "cell_type": "code",
   "execution_count": 29,
   "metadata": {},
   "outputs": [
    {
     "data": {
      "image/png": "[encoded data removed]",
      "text/plain": [
       "<Figure size 432x288 with 1 Axes>"
      ]
     },
     "metadata": {
      "needs_background": "light"
     },
     "output_type": "display_data"
    }
   ],
   "source": [
    "fdist_most = FreqDist(totalCNN) \n",
    "fdist_most.plot(10, cumulative=False, color = 'blue', title = 'Top 10 Most Frequent CNN Title Words');"
   ]
  },
  {
   "cell_type": "code",
   "execution_count": 30,
   "metadata": {},
   "outputs": [
    {
     "data": {
      "image/png": "[encoded data removed]",
      "text/plain": [
       "<Figure size 432x288 with 1 Axes>"
      ]
     },
     "metadata": {
      "needs_background": "light"
     },
     "output_type": "display_data"
    }
   ],
   "source": [
    "fdist_most = FreqDist(totalNPR) \n",
    "fdist_most.plot(10, cumulative=False, color = 'green', title = 'Top 10 Most Frequent NPR Title Words');"
   ]
  },
  {
   "cell_type": "markdown",
   "metadata": {},
   "source": [
    "### We can see from these most frequent words that the name \"Trump\" is the most common word used across the publications, which can be ascribed to the time in which the data was collected, starting from the election of 2016 and through his presidency. The rest of the distributions seem to show a propensity for negative words, such as 'kill', 'die', 'attack', and 'death', which can be due to news outlets over-reporting violent events. \"Though, it should be noted that NPR seems to have these words further down the list, and CNN has the highest frequency of these 'violent' words. \n",
    "\n",
    "\n",
    "### As for our original hypothesis: \n",
    "#### \"*We hypothesize that the two more politically polar news sources, Breitbart and CNN, will have more polar sentiment (as in frequently positive or negative-- bimodal distribution), and the more centrist news source, NPR, will be more neutral in sentiment.* \n",
    "### We feel that our data does support our hypothesis partially. We origianlly predicted that CNN and Breitbart would have a strong bimodal distribution, due to the likely more policially polar nature of their material, and that NPR would be thoroughly neutral, as it is in its political description. NPR did end up being visibly more neutral than the other two, which, while having a bimodal distribution, were both strongly skewed to the right. From this\n",
    "\n",
    "#### As for our future steps, we plan to do further significance evaluation of our sentiment variable, and clean up some of our graphical representation, possibly combining a few to be more consise. "
   ]
  },
  {
   "cell_type": "markdown",
   "metadata": {},
   "source": [
    "_______________________________________________"
   ]
  }
 ],
 "metadata": {
  "kernelspec": {
   "display_name": "Python 3",
   "language": "python",
   "name": "python3"
  },
  "language_info": {
   "codemirror_mode": {
    "name": "ipython",
    "version": 3
   },
   "file_extension": ".py",
   "mimetype": "text/x-python",
   "name": "python",
   "nbconvert_exporter": "python",
   "pygments_lexer": "ipython3",
   "version": "3.8.6"
  }
 },
 "nbformat": 4,
 "nbformat_minor": 2
}
