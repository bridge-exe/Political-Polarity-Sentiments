{
 "cells": [
  {
   "cell_type": "markdown",
   "metadata": {},
   "source": [
    "# COGS 108 - Final Project Proposal"
   ]
  },
  {
   "cell_type": "markdown",
   "metadata": {},
   "source": [
    "# Names\n",
    "\n",
    "- Bridget Egan \n",
    "- Dillan Merchant\n",
    "- Jennifer Hang\n",
    "- Sam Zakeri\n",
    "- Connie Chang"
   ]
  },
  {
   "cell_type": "markdown",
   "metadata": {},
   "source": [
    "# Research Question"
   ]
  },
  {
   "cell_type": "markdown",
   "metadata": {},
   "source": [
    "**By observing the headlines of news articles from international publications, we plan to analyze sentiment and see which news source’s headlines are generally the most “positive”, “neutral”, and/or “negative”.**"
   ]
  },
  {
   "cell_type": "markdown",
   "metadata": {},
   "source": [
    "## Background and Prior Work"
   ]
  },
  {
   "cell_type": "markdown",
   "metadata": {},
   "source": [
    "It is well-known that author bias of opinion can be clearly interpreted through the language choices of a journalist while writing. Whether this bias be prejudicial, political, or otherwise, it often permeates the message of the author’s work. Though additionally, a factor oft overlooked when critically analyzing a news article is the “sentiment” of the word choices, that is, how positive or negative the writing style is, according to natural language processing capabilities. While beginning research on this topic, the majority of sentiment analyses performed on news articles were either created with respect to time, to see how sentiment has changed over the years, or with respect to different categories of news. Though, our group would like to organize our data with respect to different news outlets for the purpose of seeing the general positivity, negativity, or neutrality of different news sources. \n",
    "\n",
    "The first relevant study of note is by authors A. Samuels, J. Mcgonical  of the University of Southern California, Caltech. Entitled “News Sentiment Analysis”, they performed a lexicon-based analysis on a set of BBC news articles. The goal of this study was to extract sentiment based on its class, such as business, entertainment, etc, using WordNet, a lexical dictionary with classified sentiment. By looking at each word of a text, assigning negative values of negative words and positive values to positive words, and then summing, you can find the overall sentiment of the text. This is called the lexicon approach. A similar study done by North Carolina Agriculture and Technical State University by Bradley Meyer, Dr. Marwan Bikdash, and Xiangfeng Dai, \"Fine-Grained Financial News Sentiment Analysis\", specifically looked at the sentiment of financial news, however instead of the lexicon approach, they used supervised machine learning, which created broad classifiers of words with guided input. \n",
    "\n",
    "Both of these models were interesting takes on how to approach the problem of sentiment analysis and data analysis, but they both prove that our project is not only doable, but an exciting question in data science today.\n",
    "\n",
    "References:\n",
    "- Samuels, Antony, and John Mcgonical. \"News Sentiment Analysis.\" https://arxiv.org/ftp/arxiv/papers/2007/2007.02238.pdf\n",
    "- Bikdash, Meyer, and Dai. \"Fine-Grained Financial News Sentiment Analysis.\", https://arxiv.org/ftp/arxiv/papers/2007/2007.02238.pdf\n"
   ]
  },
  {
   "cell_type": "markdown",
   "metadata": {},
   "source": [
    "# Hypothesis\n"
   ]
  },
  {
   "cell_type": "markdown",
   "metadata": {},
   "source": [
    "In terms of our hypothesis, we predict that International news outlets would have more positive sentiment. This stems from the idea that since International and global news outlets are focused on global news issues, there would be a larger inclination to stay as unbiased as possible. "
   ]
  },
  {
   "cell_type": "markdown",
   "metadata": {},
   "source": [
    "# Data"
   ]
  },
  {
   "cell_type": "markdown",
   "metadata": {},
   "source": [
    "1. News Source, Readership, Headlines of Articles(Breaking News), Genre, Date Published\n",
    "2. They would be stored in a tidy data format, most likely with the headline as the first column\n",
    "3. We would like to have 200 observations to yield more accurate and expansive results in the analysis\n",
    "4. The observations would be the headlines/articles of various news sources\n"
   ]
  },
  {
   "cell_type": "markdown",
   "metadata": {},
   "source": [
    "# Ethics & Privacy"
   ]
  },
  {
   "cell_type": "markdown",
   "metadata": {},
   "source": [
    "The “BBC News Summary” dataset and the “News Popularity in Multiple Social Media Platforms” dataset has the CC0: Public Domain license which allows people to utilize and edit the work without needing to ask for permission, so there seems to be little possibility of issues occurring regarding privacy for this dataset. For the “All the news” dataset, the information about the articles are not the product of scraping an entire site but rather their more prominently placed articles, so the sentiment analysis we are planning on conducting could result in a conclusion about only a part of what the news outlet releases and potentially lead to a bias for which one is the most “positive”, “neutral”, and/or “negative”. However, to handle this, we will make sure to take into consideration the fact that the articles that we have data of may only be the ones that show up on the homepage and do not represent the news source as a whole during the process of communicating our analysis."
   ]
  },
  {
   "cell_type": "markdown",
   "metadata": {},
   "source": [
    "# Team Expectations "
   ]
  },
  {
   "cell_type": "markdown",
   "metadata": {},
   "source": [
    "* Communication will happen primarily through our personal Discord server. \n",
    "* We will be meeting at least once a week, specifically Tuesday’s at 1:00pm, unless the group agrees to change for reasons of time conflict. \n",
    "* Group work will be delegated mutually, with clear expectations of deadlines for rough work and final work. Deadlines will be flexible, but generally work for the week should be completed before our weekly meeting. \n",
    "* Group conflicts will be resolved directly as they arise, but should a team member feel the need, reaching out to the teaching staff of the class is encouraged. \n",
    "* Attendance of our TA section is not mandatory, but encouraged, and should have at least one team member present each week. \n"
   ]
  },
  {
   "cell_type": "markdown",
   "metadata": {},
   "source": [
    "# Project Timeline Proposal"
   ]
  },
  {
   "cell_type": "markdown",
   "metadata": {},
   "source": [
    "| Meeting Date  | Meeting Time| Completed Before Meeting  | Discuss at Meeting |\n",
    "|---|---|---|---|\n",
    "| 4/15  |  6 PM | Read & Think about COGS 108 expectations; brainstorm topics/questions  | Determine best form of communication; Discuss and decide on final project topic; discuss hypothesis; begin background research | \n",
    "| 4/20  |  1 PM |  Do background research on topic | Discuss ideal dataset(s) and ethics; draft project proposal | \n",
    "| 4/27  | 1 PM  | Edit, finalize, and submit proposal; Search for datasets  | Discuss Wrangling and possible analytical approaches |\n",
    "| 5/4  | 1 PM  | Import & Wrangle Data (Everyone) | Review/Edit wrangling; Complete project check-in #1   |\n",
    "| 5/11  | 1 PM  | Finalize wrangling (Everyone); EDA (Everyone) | Review/Edit wrangling/EDA; Complete project check-in #2; Discuss Analysis Plan |\n",
    "| 5/18  | 1 PM  | Finalize EDA (Everyone); Begin Analysis (Everyone) | Discuss/edit Analysis |\n",
    "| 5/25  | 1 PM  | Continue Analysis (Everyone) | Review/edit Analysis; Discuss results/conclusions |\n",
    "| 6/1  | 1 PM  | Complete analysis; Draft results/conclusion/discussion (Everyone)| Review/edit full project |\n",
    "| 6/9  | Before 11:59 PM  | NA | Turn in Final Project & Group Project Surveys |"
   ]
  }
 ],
 "metadata": {
  "kernelspec": {
   "display_name": "Python 3",
   "language": "python",
   "name": "python3"
  },
  "language_info": {
   "codemirror_mode": {
    "name": "ipython",
    "version": 3
   },
   "file_extension": ".py",
   "mimetype": "text/x-python",
   "name": "python",
   "nbconvert_exporter": "python",
   "pygments_lexer": "ipython3",
   "version": "3.8.5"
  }
 },
 "nbformat": 4,
 "nbformat_minor": 2
}
